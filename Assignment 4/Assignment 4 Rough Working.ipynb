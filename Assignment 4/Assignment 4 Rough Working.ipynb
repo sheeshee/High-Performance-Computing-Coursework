{
 "cells": [
  {
   "cell_type": "markdown",
   "metadata": {},
   "source": [
    "# Assignment 4\n",
    "\n",
    "### Samuel Sheehy (Student ID 18143565)\n",
    "\n",
    "### Techniques of High Performance Computing (PHAS0102)\n",
    "\n",
    "### MSc Scientific Computing, University College London, 2019-2020\n",
    "\n",
    "**This Jupyter Notebook is submitted as completion of the 4th Assignment for the UCL course cited above.**\n",
    "\n",
    "## Setup"
   ]
  },
  {
   "cell_type": "code",
   "execution_count": 5,
   "metadata": {},
   "outputs": [],
   "source": [
    "import numpy as np\n",
    "from scipy.sparse import coo_matrix, linalg\n",
    "import matplotlib.pyplot as plt\n",
    "from math import ceil"
   ]
  },
  {
   "cell_type": "code",
   "execution_count": null,
   "metadata": {},
   "outputs": [],
   "source": [
    "# Discretise\n",
    "\n",
    "# Numerical Scheme\n",
    "\n",
    "# Check results"
   ]
  },
  {
   "cell_type": "markdown",
   "metadata": {},
   "source": [
    "* Finite difference method:\n",
    "$$\n",
    "u_h(t, x, y) = u_h(t - \\tau, x, y) -  \\frac{\\tau}{h^2} \\left[ 4 u_h(t - \\tau, x, y)\n",
    "- u_h(t - \\tau, x - h, y) - u_h(t - \\tau, x + h, y) - u_h(t - \\tau, x, y - h) - u_h(t - \\tau, x, y + h) \\right]\n",
    "$$"
   ]
  },
  {
   "cell_type": "code",
   "execution_count": 3,
   "metadata": {},
   "outputs": [],
   "source": [
    "# Build matrix A\n",
    "def is_bc(i, j, M):\n",
    "    \"\"\"\n",
    "    Check if the given coordinates correspond to a boundary.\n",
    "    \"\"\"\n",
    "    if i == 0 or i == M - 1:\n",
    "        return True\n",
    "    elif j == 0 or j == M - 1:\n",
    "        return True\n",
    "    else:\n",
    "        return False\n",
    "    \n",
    "def show(b, M):\n",
    "    p = b.reshape(M, M)\n",
    "    p = np.pad(p, 1)\n",
    "\n",
    "    # left bc\n",
    "    p[:, 0] = 0\n",
    "\n",
    "    # right bc\n",
    "    p[:, -1] = 0\n",
    "\n",
    "    # top bc\n",
    "    p[-1, :] = 0\n",
    "\n",
    "    # bottom bc\n",
    "    p[0, :] = 5\n",
    "\n",
    "    plt.imshow(p, origin='lower')\n",
    "    plt.colorbar()\n",
    "    plt.show()"
   ]
  },
  {
   "cell_type": "code",
   "execution_count": null,
   "metadata": {},
   "outputs": [],
   "source": [
    "# Explicit Method\n",
    "\n",
    "\n",
    "    \n",
    "def build_explicit_system(tau, h0):\n",
    "    \"\"\"\n",
    "    Build a matrix which applies an explicit method to solve the problem.\n",
    "    \"\"\"\n",
    "    data = []\n",
    "    rows = []\n",
    "    cols = []\n",
    "    \n",
    "    M = ceil(2/h0)\n",
    "    if M % 2 == 0:\n",
    "        M += 1\n",
    "        \n",
    "    \n",
    "    h = 2/M\n",
    "    \n",
    "#     print(f'h:{h}, h0:{h0}, tau:{tau}, M:{M}, C:{tau/h**2}')\n",
    "    \n",
    "    Mop = (M-2)**2\n",
    "    \n",
    "    \n",
    "    b = np.zeros(Mop)\n",
    "    \n",
    "    def add(val, row, colshift):\n",
    "        \"\"\"\n",
    "        Add coefficient to operator.\n",
    "        \"\"\"\n",
    "        data.append(val)\n",
    "        rows.append(row)\n",
    "        if row+colshift < 0:\n",
    "            raise Exception(f'Negative col index {row}: {colshift}')\n",
    "        cols.append(row+colshift)\n",
    "    \n",
    "    k = 0\n",
    "    for row_idx in range(1, M-1):\n",
    "        for col_idx in range(1, M-1):\n",
    "            # k = M * (row_idx - 1) + (col_idx - 1)\n",
    "            # print(f'k: {k} = {row_idx} + {col_idx}')\n",
    "            \n",
    "            # Consider Boundary influences\n",
    "            if is_bc(row_idx + 1, col_idx, M):\n",
    "#                 print('top')\n",
    "                b[k] += 0 #boundary_f((row_idx + 1)/M, col_idx/M)\n",
    "                \n",
    "            if is_bc(row_idx - 1, col_idx, M):\n",
    "#                 print('bottom')\n",
    "                b[k] += 5*tau/h**2 #boundary_f((row_idx - 1)/M, col_idx/M)\n",
    "                \n",
    "            if is_bc(row_idx, col_idx + 1, M):\n",
    "#                 print('right')\n",
    "                b[k] += 0 #boundary_f(row_idx, (col_idx + 1)/M)\n",
    "                \n",
    "            if is_bc(row_idx, col_idx - 1, M):\n",
    "#                 print('left')                \n",
    "                b[k] += 0 #boundary_f(row_idx, (col_idx - 1)/M)\n",
    "            \n",
    "            # Matrix\n",
    "            if is_bc(row_idx, col_idx, M):\n",
    "                raise Exception('Adding a bc to matrix')\n",
    "            \n",
    "            # center\n",
    "            add(1 - 4*tau/h**2, k, 0)\n",
    "#             add(4, k, 0)\n",
    "            \n",
    "            # left\n",
    "            if col_idx >= 2:\n",
    "                add(tau/h**2, k, -1)\n",
    "#                 add(-1, k, -1)\n",
    "            \n",
    "            # right\n",
    "            if col_idx < M - 2:\n",
    "                add(tau/h**2, k, 1)\n",
    "#                 add(-1, k, 1)\n",
    "            \n",
    "            # top\n",
    "            if row_idx < M - 2:\n",
    "                add(tau/h**2, k, M - 2)\n",
    "#                 add(-1, k, M-2)\n",
    "            \n",
    "            # bottom\n",
    "            if row_idx >= 2:\n",
    "                add(tau/h**2, k, -(M - 2))\n",
    "#                 add(-1, k, -M+2)\n",
    "            k += 1\n",
    "            \n",
    "    # Check for negative column indexes\n",
    "    if any([x<0 for x in cols]):\n",
    "        print(cols)\n",
    "        raise Exception('Negative column index')\n",
    "\n",
    "    A = coo_matrix((data, (rows, cols))).tocsc()\n",
    "    \n",
    "    # Ensure matrix is square\n",
    "    if A.shape[0] != A.shape[1]:\n",
    "        print('shape:', A.shape)\n",
    "        return A, b\n",
    "        raise Exception(f'Matrix is not square: {A.shape}')\n",
    "    \n",
    "    # Ensure it's the expected size\n",
    "    if A.shape[0] != Mop:\n",
    "        raise Exception(f'Matrix wrong size:{A.shape[0]}')\n",
    "                \n",
    "    return A, b\n",
    "\n",
    "\n"
   ]
  },
  {
   "cell_type": "code",
   "execution_count": null,
   "metadata": {},
   "outputs": [],
   "source": [
    "# Boundaries:\n",
    "def f(y, x):\n",
    "    if y == 0: return 5\n",
    "    else: return 0\n",
    "\n",
    "h = 0.2\n",
    "Tf = 0.41885# 0.424\n",
    "nt = ceil(4*Tf)*ceil(1/(h)**2)\n",
    "\n",
    "tau = Tf/nt\n",
    "print(nt)\n",
    "\n",
    "A, bounds = build_explicit_system(tau, h)"
   ]
  },
  {
   "cell_type": "code",
   "execution_count": 22,
   "metadata": {},
   "outputs": [
    {
     "ename": "NameError",
     "evalue": "name 'bounds' is not defined",
     "output_type": "error",
     "traceback": [
      "\u001b[0;31m---------------------------------------------------------------------------\u001b[0m",
      "\u001b[0;31mNameError\u001b[0m                                 Traceback (most recent call last)",
      "\u001b[0;32m<ipython-input-22-e9a40699ccf3>\u001b[0m in \u001b[0;36m<module>\u001b[0;34m\u001b[0m\n\u001b[0;32m----> 1\u001b[0;31m \u001b[0mb\u001b[0m \u001b[0;34m=\u001b[0m \u001b[0mnp\u001b[0m\u001b[0;34m.\u001b[0m\u001b[0mempty_like\u001b[0m\u001b[0;34m(\u001b[0m\u001b[0mbounds\u001b[0m\u001b[0;34m)\u001b[0m\u001b[0;34m*\u001b[0m\u001b[0;36m0\u001b[0m\u001b[0;34m\u001b[0m\u001b[0;34m\u001b[0m\u001b[0m\n\u001b[0m\u001b[1;32m      2\u001b[0m \u001b[0miters\u001b[0m \u001b[0;34m=\u001b[0m \u001b[0;36m0\u001b[0m\u001b[0;34m\u001b[0m\u001b[0;34m\u001b[0m\u001b[0m\n\u001b[1;32m      3\u001b[0m \u001b[0;34m\u001b[0m\u001b[0m\n\u001b[1;32m      4\u001b[0m \u001b[0mt\u001b[0m \u001b[0;34m=\u001b[0m \u001b[0;36m0\u001b[0m\u001b[0;34m\u001b[0m\u001b[0;34m\u001b[0m\u001b[0m\n\u001b[1;32m      5\u001b[0m \u001b[0mloc\u001b[0m \u001b[0;34m=\u001b[0m \u001b[0mlen\u001b[0m\u001b[0;34m(\u001b[0m\u001b[0mb\u001b[0m\u001b[0;34m)\u001b[0m\u001b[0;34m//\u001b[0m\u001b[0;36m2\u001b[0m\u001b[0;34m\u001b[0m\u001b[0;34m\u001b[0m\u001b[0m\n",
      "\u001b[0;31mNameError\u001b[0m: name 'bounds' is not defined"
     ]
    }
   ],
   "source": [
    "b = np.empty_like(bounds)*0\n",
    "iters = 0\n",
    "\n",
    "t = 0\n",
    "loc = len(b)//2\n",
    "\n",
    "vals = []\n",
    "\n",
    "for i in range(nt):\n",
    "    t += tau\n",
    "    b = A @ b + bounds\n",
    "    vals.append(b[loc])\n",
    "\n",
    "M = int(len(b)**0.5) + 2\n",
    "\n",
    "b[loc] = 5\n",
    "\n",
    "show(b, M - 2)\n",
    "plt.plot(vals)\n",
    "plt.show()\n",
    "print(f't:{t:6E} => center:{b[loc]}')\n"
   ]
  },
  {
   "cell_type": "code",
   "execution_count": 30,
   "metadata": {},
   "outputs": [],
   "source": [
    "# Zero search - explicit\n",
    "\n",
    "def f_exp(t, h):\n",
    "    nt = ceil(4*t)*ceil(1/(h)**2)\n",
    "    tau = t/nt\n",
    "    \n",
    "    A, bounds = build_explicit_system(tau, h)\n",
    "    b = np.empty_like(bounds)*0\n",
    "\n",
    "    loc = len(b)//2\n",
    "\n",
    "    vals = []\n",
    "\n",
    "    for i in range(nt):\n",
    "        b = A @ b + bounds\n",
    "        vals.append(b[loc])\n",
    "    \n",
    "    return b[loc] #, vals"
   ]
  },
  {
   "cell_type": "code",
   "execution_count": 66,
   "metadata": {},
   "outputs": [
    {
     "name": "stdout",
     "output_type": "stream",
     "text": [
      "0.4167315883520492\n",
      "0.42250492525988714\n",
      "0.42283609911469244\n",
      "0.4228412639237386\n"
     ]
    },
    {
     "data": {
      "text/plain": [
       "0.4228412639237386"
      ]
     },
     "execution_count": 66,
     "metadata": {},
     "output_type": "execute_result"
    }
   ],
   "source": [
    "# Crank-Nicholson Method\n",
    "\n",
    "def build_CN_system(tau, h0):\n",
    "    \"\"\"\n",
    "    Build a matrix which applies an explicit method to solve the problem.\n",
    "    \"\"\"\n",
    "    data = []\n",
    "    dataprime = []\n",
    "    rows = []\n",
    "    cols = []\n",
    "    \n",
    "    M = ceil(2/h0)\n",
    "    if M % 2 == 0:\n",
    "        M += 1\n",
    "        \n",
    "    \n",
    "    h = 2/M\n",
    "    \n",
    "#     print(f'h:{h}, h0:{h0}, tau:{tau}, M:{M}, C:{tau/h**2}')\n",
    "    \n",
    "    Mop = (M-2)**2\n",
    "    \n",
    "    alpha = tau/h**2/2\n",
    "    \n",
    "    \n",
    "    b = np.zeros(Mop)\n",
    "    \n",
    "    def add(datasource, val, row, colshift, flag=1):\n",
    "        \"\"\"\n",
    "        Add coefficient to operator.\n",
    "        \"\"\"\n",
    "        datasource.append(val)\n",
    "        if flag:\n",
    "            rows.append(row)\n",
    "            if row+colshift < 0:\n",
    "                raise Exception(f'Negative col index {row}: {colshift}')\n",
    "            cols.append(row+colshift)\n",
    "    \n",
    "    k = 0\n",
    "    for row_idx in range(1, M-1):\n",
    "        for col_idx in range(1, M-1):\n",
    "            # k = M * (row_idx - 1) + (col_idx - 1)\n",
    "            # print(f'k: {k} = {row_idx} + {col_idx}')\n",
    "            \n",
    "            # Consider Boundary influences\n",
    "            if is_bc(row_idx + 1, col_idx, M):\n",
    "#                 print('top')\n",
    "                b[k] += 0 #boundary_f((row_idx + 1)/M, col_idx/M)\n",
    "                \n",
    "            if is_bc(row_idx - 1, col_idx, M):\n",
    "#                 print('bottom')\n",
    "                b[k] += 5 #boundary_f((row_idx - 1)/M, col_idx/M)\n",
    "                \n",
    "            if is_bc(row_idx, col_idx + 1, M):\n",
    "#                 print('right')\n",
    "                b[k] += 0 #boundary_f(row_idx, (col_idx + 1)/M)\n",
    "                \n",
    "            if is_bc(row_idx, col_idx - 1, M):\n",
    "#                 print('left')                \n",
    "                b[k] += 0 #boundary_f(row_idx, (col_idx - 1)/M)\n",
    "            \n",
    "            # Matrix\n",
    "            if is_bc(row_idx, col_idx, M):\n",
    "                raise Exception('Adding a bc to matrix - not correct')\n",
    "            \n",
    "            # center\n",
    "            add(data,      1 - 4*alpha, k, 0)\n",
    "            add(dataprime, 1 + 4*alpha, k, 0, 0)\n",
    "#             add(4, k, 0)\n",
    "            \n",
    "            # left\n",
    "            if col_idx >= 2:\n",
    "                add(data,       alpha, k, -1)\n",
    "                add(dataprime, -alpha, k, -1, 0)\n",
    "#                 add(-1, k, -1)\n",
    "            \n",
    "            # right\n",
    "            if col_idx < M - 2:\n",
    "                add(data,       alpha, k, 1)\n",
    "                add(dataprime, -alpha, k, 1, 0)\n",
    "                \n",
    "#                 add(-1, k, 1)\n",
    "            \n",
    "            # top\n",
    "            if row_idx < M - 2:\n",
    "                add(data,       alpha, k, M - 2)\n",
    "                add(dataprime, -alpha, k, M - 2, 0)\n",
    "#                 add(-1, k, M-2)\n",
    "            \n",
    "            # bottom\n",
    "            if row_idx >= 2:\n",
    "                add(data,       alpha, k, -(M - 2))\n",
    "                add(dataprime, -alpha, k, -(M - 2), 0)\n",
    "#                 add(-1, k, -M+2)\n",
    "            k += 1\n",
    "            \n",
    "    # Check for negative column indexes\n",
    "    if any([x<0 for x in cols]):\n",
    "        print(cols)\n",
    "        raise Exception('Negative column index')\n",
    "\n",
    "    A      = coo_matrix((data,      (rows, cols))).tocsc()\n",
    "    Aprime = coo_matrix((dataprime, (rows, cols))).tocsc()\n",
    "    \n",
    "    # Ensure matrix is square\n",
    "    if A.shape[0] != A.shape[1]:\n",
    "        print('shape:', A.shape)\n",
    "        return A, b\n",
    "        raise Exception(f'Matrix is not square: {A.shape}')\n",
    "    \n",
    "    # Ensure it's the expected size\n",
    "    if A.shape[0] != Mop:\n",
    "        raise Exception(f'Matrix wrong size:{A.shape[0]}')\n",
    "                \n",
    "    return A, Aprime, b*alpha\n",
    "\n",
    "\n",
    "def f(t, h, nt):\n",
    "    tau = t/nt\n",
    "    \n",
    "    A, Aprime, bounds = build_CN_system(tau, h)\n",
    "    u = np.empty_like(bounds)*0\n",
    "    \n",
    "#     invAp = linalg.inv(Aprime)\n",
    "\n",
    "    loc = len(u)//2\n",
    "\n",
    "    vals = []\n",
    "\n",
    "    for i in range(nt):\n",
    "        b = (A @ u + 2*bounds)\n",
    "        u, info = linalg.cg(Aprime, b)\n",
    "            # Check convergence status of solution\n",
    "        if info > 0:\n",
    "            print(f'Did not converge at i={i}! iter:', info)\n",
    "        if info < 0:\n",
    "            print(f'There was an error in cg at i={i}')\n",
    "        vals.append(u[loc])\n",
    "        \n",
    "    \n",
    "    return u[loc] #, vals#\n",
    "\n",
    "def secant(g, u0, u1, tol, h, nt, maxiter=1000):\n",
    "    u_2= u1\n",
    "    u_1 = u0\n",
    "    k = 0\n",
    "    while u_2 - u_1 > tol and k < maxiter:\n",
    "        f2 = g(u_2, h, nt)\n",
    "        f1 = g(u_1, h, nt)\n",
    "        u_new = u_2 - f2*(u_2 - u_1)/(f2 - f1)\n",
    "        u_1 = u_2\n",
    "        u_2 = u_new\n",
    "        print(u_new)\n",
    "        k += 1\n",
    "    if k == maxiter:\n",
    "        print('max iters achieved', k)\n",
    "    return u_2\n",
    "\n",
    "def richardson(f, t, h):\n",
    "    uh = f(t, h)\n",
    "    u2h = f(t, h/2)\n",
    "    return  uh + (uh - u2h)/3\n",
    "\n",
    "# F = lambda T, h, tau: f(T, h, tau)\n",
    "g = lambda t, h, nt: f(t, h, nt) - 1  #richardson(f, t, h) - 1\n",
    "\n",
    "secant(g, 0.3, 0.4, 1e-5, 1/200, 100, maxiter=20)"
   ]
  },
  {
   "cell_type": "code",
   "execution_count": 54,
   "metadata": {},
   "outputs": [
    {
     "data": {
      "text/plain": [
       "0.007532889325909009"
      ]
     },
     "execution_count": 54,
     "metadata": {},
     "output_type": "execute_result"
    }
   ],
   "source": [
    "# Checker\n",
    "g(0.424, 1/64, 200)"
   ]
  },
  {
   "cell_type": "code",
   "execution_count": 60,
   "metadata": {},
   "outputs": [
    {
     "data": {
      "text/plain": [
       "0.007431106363542828"
      ]
     },
     "execution_count": 60,
     "metadata": {},
     "output_type": "execute_result"
    }
   ],
   "source": [
    "f(0.424, 1/64, 500) - 1"
   ]
  },
  {
   "cell_type": "code",
   "execution_count": 67,
   "metadata": {},
   "outputs": [
    {
     "data": {
      "text/plain": [
       "-5.036548987069622e-05"
      ]
     },
     "execution_count": 67,
     "metadata": {},
     "output_type": "execute_result"
    }
   ],
   "source": [
    "f(0.4228, 1/200, 100) - 1"
   ]
  },
  {
   "cell_type": "code",
   "execution_count": 65,
   "metadata": {},
   "outputs": [
    {
     "data": {
      "text/plain": [
       "0.005"
      ]
     },
     "execution_count": 65,
     "metadata": {},
     "output_type": "execute_result"
    }
   ],
   "source": [
    "1/200"
   ]
  },
  {
   "cell_type": "code",
   "execution_count": 63,
   "metadata": {},
   "outputs": [
    {
     "data": {
      "text/plain": [
       "0.00424"
      ]
     },
     "execution_count": 63,
     "metadata": {},
     "output_type": "execute_result"
    }
   ],
   "source": [
    "0.424/100"
   ]
  },
  {
   "cell_type": "code",
   "execution_count": null,
   "metadata": {},
   "outputs": [],
   "source": []
  }
 ],
 "metadata": {
  "kernelspec": {
   "display_name": "Python 3",
   "language": "python",
   "name": "python3"
  },
  "language_info": {
   "codemirror_mode": {
    "name": "ipython",
    "version": 3
   },
   "file_extension": ".py",
   "mimetype": "text/x-python",
   "name": "python",
   "nbconvert_exporter": "python",
   "pygments_lexer": "ipython3",
   "version": "3.7.4"
  }
 },
 "nbformat": 4,
 "nbformat_minor": 2
}
