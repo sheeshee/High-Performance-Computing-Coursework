{
 "cells": [
  {
   "cell_type": "markdown",
   "metadata": {},
   "source": [
    "# Assignment 4\n",
    "\n",
    "### Samuel Sheehy (Student ID 18143565)\n",
    "\n",
    "### Techniques of High Performance Computing (PHAS0102)\n",
    "\n",
    "### MSc Scientific Computing, University College London, 2019-2020\n",
    "\n",
    "**This Jupyter Notebook is submitted as completion of the 4th Assignment for the UCL course cited above.**\n",
    "\n",
    "## Setup"
   ]
  },
  {
   "cell_type": "code",
   "execution_count": 1,
   "metadata": {},
   "outputs": [],
   "source": [
    "import numpy as np\n",
    "from scipy.sparse import coo_matrix, linalg\n",
    "import matplotlib.pyplot as plt\n",
    "from math import ceil\n",
    "\n",
    "TRUE_RESULT = 0.424011387033 # The expected answer to 12 significant figures"
   ]
  },
  {
   "cell_type": "markdown",
   "metadata": {},
   "source": [
    "## Introduction of Problem\n",
    "* Intro to the problem we are solving and the Heat Equation \n",
    "\n",
    "\n",
    "## Mathematical Derivation of Numerical Scheme\n",
    "\n",
    "* Finite difference method:\n",
    "\n",
    "CN finite difference in spacial dimension.\n",
    "$$\n",
    "u_h(t, x, y) = u_h(t - \\tau, x, y) -  \\frac{\\tau}{h^2} \\left[ 4 u_h(t - \\tau, x, y)\n",
    "- u_h(t - \\tau, x - h, y) - u_h(t - \\tau, x + h, y) - u_h(t - \\tau, x, y - h) - u_h(t - \\tau, x, y + h) \\right] + again\n",
    "$$\n",
    "\n",
    "* How I formulate this as a matrix\n",
    "\n",
    "\n",
    "## My Method\n",
    "* From mathematical formulation, components of calculation are: \n",
    "    - Construction of matrices A(t) and A(t+1)\n",
    "    - Calculate $u_* = A(t)u(t) + [bc]$ - maybe use OpenCL kernel?\n",
    "    - Solve for $u(t+1)$: $A(t+1)u(t+1) = u_* $ (CG method -  preconditioner through LU decomposition)\n",
    "    - Use secant method to find answer\n",
    "\n",
    "## Analysis\n",
    "* Show influence of size of timestep and spacestep in finding correct answer\n",
    "* How time completion of each section increases with system size\n",
    "* Overall convergence of final solution"
   ]
  },
  {
   "cell_type": "code",
   "execution_count": 2,
   "metadata": {},
   "outputs": [],
   "source": [
    "### Helper Methods ###\n",
    "def is_bc(i, j, M):\n",
    "    \"\"\"\n",
    "    Check if the given coordinates correspond to a boundary.\n",
    "    \"\"\"\n",
    "    if i == 0 or i == M - 1:\n",
    "        return True\n",
    "    elif j == 0 or j == M - 1:\n",
    "        return True\n",
    "    else:\n",
    "        return False\n",
    "\n",
    "    \n",
    "def show(b):\n",
    "    \"\"\"\n",
    "    Display an image of the solution on the square.\n",
    "    \n",
    "    TODO: generalise to any BC function\n",
    "    \"\"\"\n",
    "    # Put flattened vector back into square\n",
    "    M = int(len(b)**0.5)\n",
    "    p = b.reshape(M, M)\n",
    "    \n",
    "    # Reinclude the original boundary conditions\n",
    "    p = np.pad(p, 1)\n",
    "    p[:, 0] = 0  # left bc\n",
    "    p[:, -1] = 0 # right bc\n",
    "    p[-1, :] = 0 # top bc\n",
    "    p[0, :] = 5  # bottom bc\n",
    "\n",
    "    # Display the solution\n",
    "    plt.imshow(p, origin='lower')\n",
    "    plt.colorbar()\n",
    "    plt.show()"
   ]
  },
  {
   "cell_type": "code",
   "execution_count": 42,
   "metadata": {},
   "outputs": [],
   "source": [
    "# Crank-Nicholson Method\n",
    "def build_CN_system(tau, h0):\n",
    "    \"\"\"\n",
    "    Build a matrix which applies the Crank-Nicholsong finite difference\n",
    "    scheme to solve the problem.\n",
    "    \n",
    "    TODO: Generalise region limits and boundary conditions\n",
    "    \"\"\"\n",
    "    data = []\n",
    "    dataprime = []\n",
    "    rows = []\n",
    "    cols = []\n",
    "    \n",
    "    # Double the size of M since its dimensions corners\n",
    "    # oppose themselves around the center.\n",
    "    M = ceil(2/h0)\n",
    "    \n",
    "    # Ensure that M is odd so that there is a unique value\n",
    "    # at its center.\n",
    "    if M % 2 == 0:\n",
    "        M += 1\n",
    "    \n",
    "    # Redefine h to fit the number of descritisation points\n",
    "    h = 2/M\n",
    "    print('M:', M)\n",
    "        \n",
    "    # Determine the length of the operator\n",
    "    M_op = (M-2)**2 # Removes edges\n",
    "    b = np.zeros(M_op)\n",
    "    \n",
    "    # Set stepping term\n",
    "    alpha = tau/h**2/2\n",
    "    \n",
    "    \n",
    "    def add(datasource, val, row, colshift, flag=1):\n",
    "        \"\"\"\n",
    "        Add coefficient to operator.\n",
    "        \"\"\"\n",
    "        datasource.append(val)\n",
    "        if flag:\n",
    "            rows.append(row)\n",
    "            if row+colshift < 0:\n",
    "                raise Exception(f'Negative col index {row}: {colshift}')\n",
    "            cols.append(row+colshift)\n",
    "    \n",
    "    k = 0\n",
    "    for row_idx in range(1, M-1):\n",
    "        for col_idx in range(1, M-1):\n",
    "\n",
    "            # Consider Boundary influences\n",
    "            if is_bc(row_idx + 1, col_idx, M):\n",
    "                b[k] += 0 \n",
    "                \n",
    "            if is_bc(row_idx - 1, col_idx, M):\n",
    "                b[k] += 5*alpha\n",
    "                \n",
    "            if is_bc(row_idx, col_idx + 1, M):\n",
    "                b[k] += 0\n",
    "                \n",
    "            if is_bc(row_idx, col_idx - 1, M):\n",
    "                b[k] += 0\n",
    "            \n",
    "            # Matrix\n",
    "            if is_bc(row_idx, col_idx, M):\n",
    "                raise Exception('Adding a bc to matrix - not correct')\n",
    "            \n",
    "            # center\n",
    "            add(data,      1 - 4*alpha, k, 0)\n",
    "            add(dataprime, 1 + 4*alpha, k, 0, 0)\n",
    "            \n",
    "            # left\n",
    "            if col_idx >= 2:\n",
    "                add(data,       alpha, k, -1)\n",
    "                add(dataprime, -alpha, k, -1, 0)\n",
    "            \n",
    "            # right\n",
    "            if col_idx < M - 2:\n",
    "                add(data,       alpha, k, 1)\n",
    "                add(dataprime, -alpha, k, 1, 0)\n",
    "            \n",
    "            # top\n",
    "            if row_idx < M - 2:\n",
    "                add(data,       alpha, k, M - 2)\n",
    "                add(dataprime, -alpha, k, M - 2, 0)\n",
    "            \n",
    "            # bottom\n",
    "            if row_idx >= 2:\n",
    "                add(data,       alpha, k, -(M - 2))\n",
    "                add(dataprime, -alpha, k, -(M - 2), 0)\n",
    "            \n",
    "            k += 1\n",
    "            \n",
    "    # Check for negative column indexes\n",
    "    if any([x<0 for x in cols]):\n",
    "        print(cols)\n",
    "        raise Exception('Negative column index')\n",
    "\n",
    "    A      = coo_matrix((data,      (rows, cols))).tocsc()\n",
    "    Aprime = coo_matrix((dataprime, (rows, cols))).tocsc()\n",
    "    \n",
    "    # Ensure matrix is square\n",
    "    if A.shape[0] != A.shape[1]:\n",
    "        print('shape:', A.shape)\n",
    "        return A, b\n",
    "        raise Exception(f'Matrix is not square: {A.shape}')\n",
    "    \n",
    "    # Ensure it's the expected size\n",
    "    if A.shape[0] != M_op:\n",
    "        raise Exception(f'Matrix wrong size:{A.shape[0]}')\n",
    "                \n",
    "    return A, Aprime, b\n",
    "\n",
    "\n",
    "def temp_at_time(t, h, tau):\n",
    "    \"\"\"\n",
    "    Calculates the temperature at the central point at a given\n",
    "    time t, according to a spacial step h and a time step tau.\n",
    "    \"\"\"\n",
    "    # Get operators and boundary condition operator\n",
    "    At, At2, bounds = build_CN_system(tau, h)\n",
    "    \n",
    "    # Initialise the estimate for the lattice solution\n",
    "    u = np.empty_like(bounds)*0\n",
    "    \n",
    "    # Determine number of timesteps\n",
    "    nt = ceil(t/tau)\n",
    "    tau = t/nt\n",
    "    T = 0\n",
    "    print('nt:', nt)\n",
    "    \n",
    "    # Effectuate iteration until time reached\n",
    "    for i in range(nt):\n",
    "        u_temp = (At @ u + 2*bounds)\n",
    "        u, info = linalg.cg(At2, u_temp)\n",
    "        # Check convergence status of solution\n",
    "        if info > 0:\n",
    "            print(f'Did not converge at i={i}! iter:', info)\n",
    "        if info < 0:\n",
    "            print(f'There was an error in cg at i={i}')\n",
    "        T += tau\n",
    "        \n",
    "#     print(T)\n",
    "    return u\n",
    "\n",
    "\n",
    "def secant_method(f, rhs, x0, x1, tol, maxiter=1000):\n",
    "    \"\"\"\n",
    "    Using the secant method, solve the system f(x) = rhs.\n",
    "    \"\"\"\n",
    "    # Initiate parameters\n",
    "    fzero = lambda x: f(x) - rhs\n",
    "    x_1 = x1\n",
    "    x_0 = x0\n",
    "    k = 0\n",
    "    # Iterate\n",
    "    while abs(x_1 - x_0) > tol and k < maxiter:\n",
    "        f1 = fzero(x_1)\n",
    "        f0 = fzero(x_0)\n",
    "        x_new = x_1 - f1*(x_1 - x_0)/(f1 - f0)\n",
    "        x_0 = x_1\n",
    "        x_1 = x_new\n",
    "        k += 1\n",
    "        print(x_new)\n",
    "    \n",
    "    print('k:', k)\n",
    "    if k == maxiter:\n",
    "        print('WARNING: solver exited before finding a solution')\n",
    "    return x_new\n",
    "\n",
    "\n",
    "def get_center_value(u):\n",
    "    \"\"\"\n",
    "    Return the value at the center of the lattice\n",
    "    \"\"\"\n",
    "    return u[len(u)//2]\n",
    "\n",
    "\n",
    "def center_temp_at_time(t, h, tau):\n",
    "    \"\"\"\n",
    "    Determine the temparature at the center of the lattice\n",
    "    at the time t for th given step sizes h and tau.\n",
    "    \"\"\"\n",
    "    u = temp_at_time(t, h, tau)\n",
    "    center = get_center_value(u)\n",
    "    return center\n",
    "\n",
    "    \n",
    "def main_solve(h, tau, tol):\n",
    "    \"\"\"\n",
    "    Determine the solution of the initial problem.\n",
    "    \"\"\"\n",
    "    x0 = 0.4\n",
    "    x1 = 0.3\n",
    "    f = lambda t: center_temp_at_time(t, h, tau)\n",
    "    center_T = secant_method(f, 1, x0, x1, tol)\n",
    "    return center_T"
   ]
  },
  {
   "cell_type": "code",
   "execution_count": null,
   "metadata": {},
   "outputs": [
    {
     "name": "stdout",
     "output_type": "stream",
     "text": [
      "M: 201\n",
      "nt: 30\n",
      "M: 201\n",
      "nt: 40\n",
      "0.4148483301921666\n",
      "M: 201\n",
      "nt: 42\n",
      "M: 201\n",
      "nt: 30\n"
     ]
    }
   ],
   "source": [
    "# Setup\n",
    "h = 1e-2\n",
    "tau = 0.01\n",
    "tol = 1e-2\n",
    "\n",
    "# Solve\n",
    "estimate = main_solve(h, tau, tol)\n",
    "\n",
    "# Error\n",
    "print(f'Error from correct solution is {abs(estimate - TRUE_RESULT): 4E}')"
   ]
  },
  {
   "cell_type": "code",
   "execution_count": 38,
   "metadata": {},
   "outputs": [
    {
     "name": "stdout",
     "output_type": "stream",
     "text": [
      "M: 129\n",
      "nt: 425\n"
     ]
    },
    {
     "data": {
      "image/png": "[encoded data removed]",
      "text/plain": [
       "<Figure size 432x288 with 2 Axes>"
      ]
     },
     "metadata": {
      "needs_background": "light"
     },
     "output_type": "display_data"
    }
   ],
   "source": [
    "U = temp_at_time(TRUE_RESULT, 1/64, 1e-3)\n",
    "show(U)"
   ]
  },
  {
   "cell_type": "code",
   "execution_count": 44,
   "metadata": {},
   "outputs": [
    {
     "name": "stdout",
     "output_type": "stream",
     "text": [
      "M: 201\n",
      "nt: 43\n"
     ]
    },
    {
     "data": {
      "text/plain": [
       "1.0118953569901663"
      ]
     },
     "execution_count": 44,
     "metadata": {},
     "output_type": "execute_result"
    }
   ],
   "source": [
    "center_temp_at_time(TRUE_RESULT, 1e-2, 1e-2)"
   ]
  },
  {
   "cell_type": "code",
   "execution_count": null,
   "metadata": {},
   "outputs": [],
   "source": [
    "center_temp_at_time(TRUE_RESULT, 1/64, 1e-4)"
   ]
  },
  {
   "cell_type": "code",
   "execution_count": 41,
   "metadata": {},
   "outputs": [
    {
     "data": {
      "text/plain": [
       "0.41637375387367076"
      ]
     },
     "execution_count": 41,
     "metadata": {},
     "output_type": "execute_result"
    }
   ],
   "source": [
    "get_center_value(U)/3"
   ]
  },
  {
   "cell_type": "code",
   "execution_count": 37,
   "metadata": {},
   "outputs": [
    {
     "data": {
      "text/plain": [
       "array([2.49966666e+00, 3.48759526e+00, 3.95205224e+00, ...,\n",
       "       1.00029415e-03, 6.67216964e-04, 3.33711363e-04])"
      ]
     },
     "execution_count": 37,
     "metadata": {},
     "output_type": "execute_result"
    }
   ],
   "source": [
    "U"
   ]
  },
  {
   "cell_type": "code",
   "execution_count": 39,
   "metadata": {},
   "outputs": [
    {
     "data": {
      "text/plain": [
       "0.424011387033"
      ]
     },
     "execution_count": 39,
     "metadata": {},
     "output_type": "execute_result"
    }
   ],
   "source": [
    "TRUE_RESULT"
   ]
  },
  {
   "cell_type": "code",
   "execution_count": null,
   "metadata": {},
   "outputs": [],
   "source": []
  }
 ],
 "metadata": {
  "kernelspec": {
   "display_name": "Python 3",
   "language": "python",
   "name": "python3"
  },
  "language_info": {
   "codemirror_mode": {
    "name": "ipython",
    "version": 3
   },
   "file_extension": ".py",
   "mimetype": "text/x-python",
   "name": "python",
   "nbconvert_exporter": "python",
   "pygments_lexer": "ipython3",
   "version": "3.7.4"
  }
 },
 "nbformat": 4,
 "nbformat_minor": 2
}
