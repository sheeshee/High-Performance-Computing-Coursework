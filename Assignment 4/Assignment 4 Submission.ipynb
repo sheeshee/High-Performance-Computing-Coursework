{
 "cells": [
  {
   "cell_type": "markdown",
   "metadata": {},
   "source": [
    "# Assignment 4\n",
    "\n",
    "### Samuel Sheehy (Student ID 18143565)\n",
    "\n",
    "### Techniques of High Performance Computing (PHAS0102)\n",
    "\n",
    "### MSc Scientific Computing, University College London, 2019-2020\n",
    "\n",
    "**This Jupyter Notebook is submitted as completion of the 4th Assignment for the UCL course cited above.**\n",
    "\n",
    "## Setup"
   ]
  },
  {
   "cell_type": "code",
   "execution_count": 202,
   "metadata": {},
   "outputs": [],
   "source": [
    "import numpy as np\n",
    "from scipy.sparse import coo_matrix\n",
    "import matplotlib.pyplot as plt\n",
    "from math import ceil"
   ]
  },
  {
   "cell_type": "code",
   "execution_count": 119,
   "metadata": {},
   "outputs": [],
   "source": [
    "# Discretise\n",
    "\n",
    "# Numerical Scheme\n",
    "\n",
    "# Check results"
   ]
  },
  {
   "cell_type": "markdown",
   "metadata": {},
   "source": [
    "* Finite difference method:\n",
    "$$\n",
    "u_h(t, x, y) = u_h(t - \\tau, x, y) -  \\frac{\\tau}{h^2} \\left[ 4 u_h(t - \\tau, x, y)\n",
    "- u_h(t - \\tau, x - h, y) - u_h(t - \\tau, x + h, y) - u_h(t - \\tau, x, y - h) - u_h(t - \\tau, x, y + h) \\right]\n",
    "$$\n",
    "\n",
    "* Rearranged:\n",
    "$$\n",
    "\n",
    "$$"
   ]
  },
  {
   "cell_type": "code",
   "execution_count": 478,
   "metadata": {},
   "outputs": [],
   "source": [
    "# Explicit Method\n",
    "\n",
    "# Build matrix A\n",
    "def is_bc(i, j, M):\n",
    "    \"\"\"\n",
    "    Check if the given coordinates correspond to a boundary.\n",
    "    \"\"\"\n",
    "    if i == 0 or i == M - 1:\n",
    "        return True\n",
    "    elif j == 0 or j == M - 1:\n",
    "        return True\n",
    "    else:\n",
    "        return False\n",
    "    \n",
    "def build_explicit_system(tau, h0, boundary_f):\n",
    "    \"\"\"\n",
    "    Build a matrix which applies an explicit method to solve the problem.\n",
    "    \"\"\"\n",
    "    data = []\n",
    "    rows = []\n",
    "    cols = []\n",
    "    \n",
    "    M = ceil(2/h0)\n",
    "    if M % 2 == 0:\n",
    "        M += 1\n",
    "    h = 1/M\n",
    "    print(h)\n",
    "    \n",
    "    print(h, h0, tau)\n",
    "    print(f'M:{M}')\n",
    "    \n",
    "    Mop = (M-2)**2\n",
    "    \n",
    "    \n",
    "    b = np.zeros(Mop)\n",
    "    \n",
    "    def add(val, row, colshift):\n",
    "        \"\"\"\n",
    "        Add coefficient to operator.\n",
    "        \"\"\"\n",
    "        data.append(val)\n",
    "        rows.append(row)\n",
    "        if row+colshift < 0:\n",
    "            raise Exception(f'Negative col index {row}: {colshift}')\n",
    "        cols.append(row+colshift)\n",
    "    \n",
    "    k = 0\n",
    "    for row_idx in range(1, M-1):\n",
    "        for col_idx in range(1, M-1):\n",
    "            # k = M * (row_idx - 1) + (col_idx - 1)\n",
    "            # print(f'k: {k} = {row_idx} + {col_idx}')\n",
    "            \n",
    "            # Consider Boundary influences\n",
    "            if is_bc(row_idx + 1, col_idx, M):\n",
    "#                 print('top')\n",
    "                b[k] += 0 #boundary_f((row_idx + 1)/M, col_idx/M)\n",
    "                \n",
    "            if is_bc(row_idx - 1, col_idx, M):\n",
    "#                 print('bottom')\n",
    "                b[k] += 5*tau/h**2 #boundary_f((row_idx - 1)/M, col_idx/M)\n",
    "                \n",
    "            if is_bc(row_idx, col_idx + 1, M):\n",
    "#                 print('right')\n",
    "                b[k] += 0 #boundary_f(row_idx, (col_idx + 1)/M)\n",
    "                \n",
    "            if is_bc(row_idx, col_idx - 1, M):\n",
    "#                 print('left')                \n",
    "                b[k] += 0 #boundary_f(row_idx, (col_idx - 1)/M)\n",
    "            \n",
    "            # Matrix\n",
    "            if is_bc(row_idx, col_idx, M):\n",
    "                raise Exception('Adding a bc to matrix')\n",
    "            \n",
    "            # center\n",
    "            add(1 - 4*tau/h**2, k, 0)\n",
    "#             add(4, k, 0)\n",
    "            \n",
    "            # left\n",
    "            if col_idx >= 2:\n",
    "                add(tau/h**2, k, -1)\n",
    "#                 add(-1, k, -1)\n",
    "            \n",
    "            # right\n",
    "            if col_idx < M - 2:\n",
    "                add(tau/h**2, k, 1)\n",
    "#                 add(-1, k, 1)\n",
    "            \n",
    "            # top\n",
    "            if row_idx < M - 2:\n",
    "                add(tau/h**2, k, M - 2)\n",
    "#                 add(-1, k, M-2)\n",
    "            \n",
    "            # bottom\n",
    "            if row_idx >= 2:\n",
    "                add(tau/h**2, k, -(M - 2))\n",
    "#                 add(-1, k, -M+2)\n",
    "            k += 1\n",
    "            \n",
    "    # Check for negative column indexes\n",
    "    if any([x<0 for x in cols]):\n",
    "        print(cols)\n",
    "        raise Exception('Negative column index')\n",
    "\n",
    "    A = coo_matrix((data, (rows, cols))).tocsc()\n",
    "    \n",
    "    # Ensure matrix is square\n",
    "    if A.shape[0] != A.shape[1]:\n",
    "        print('shape:', A.shape)\n",
    "        return A, b\n",
    "        raise Exception(f'Matrix is not square: {A.shape}')\n",
    "    \n",
    "    # Ensure it's the expected size\n",
    "    if A.shape[0] != Mop:\n",
    "        raise Exception(f'Matrix wrong size:{A.shape[0]}')\n",
    "                \n",
    "    return A, b"
   ]
  },
  {
   "cell_type": "code",
   "execution_count": 486,
   "metadata": {},
   "outputs": [
    {
     "name": "stdout",
     "output_type": "stream",
     "text": [
      "nt:32768\n",
      "h:0.015625\n",
      "tau:1.2939453125e-05\n",
      "0.007751937984496124\n",
      "0.007751937984496124 0.015625 1.2939453125e-05\n",
      "M:129\n"
     ]
    }
   ],
   "source": [
    "# Boundaries:\n",
    "def f(y, x):\n",
    "    if y == 0: return 5\n",
    "    else: return 0\n",
    "\n",
    "h = 1/64\n",
    "Tf = 0.424\n",
    "nt = ceil(4*Tf)*ceil(1/(h/2)**2)\n",
    "\n",
    "tau = Tf/nt\n",
    "\n",
    "print(f'nt:{nt}\\nh:{h}\\ntau:{tau}')\n",
    "\n",
    "A, bounds = build_explicit_system(tau, h, f)"
   ]
  },
  {
   "cell_type": "code",
   "execution_count": 489,
   "metadata": {},
   "outputs": [
    {
     "name": "stdout",
     "output_type": "stream",
     "text": [
      "t:0.42400000000035193\n"
     ]
    },
    {
     "data": {
      "text/plain": [
       "1.2492545439804124"
      ]
     },
     "execution_count": 489,
     "metadata": {},
     "output_type": "execute_result"
    }
   ],
   "source": [
    "b = np.empty_like(bounds)*0\n",
    "iters = 0\n",
    "\n",
    "t = 0\n",
    "\n",
    "loc = len(b)//2 + 1\n",
    "\n",
    "vals = []\n",
    "\n",
    "for i in range(nt):\n",
    "    t += tau\n",
    "    b = A @ b + bounds\n",
    "    vals.append(b[loc])\n",
    "\n",
    "print(f't:{t}')\n",
    "M = int(len(b)**0.5) + 2\n",
    "loc = len(b)//2 + 1\n",
    "b[loc]"
   ]
  },
  {
   "cell_type": "code",
   "execution_count": 490,
   "metadata": {},
   "outputs": [
    {
     "data": {
      "text/plain": [
       "[<matplotlib.lines.Line2D at 0x7f4a4016a890>]"
      ]
     },
     "execution_count": 490,
     "metadata": {},
     "output_type": "execute_result"
    },
    {
     "data": {
      "image/png": "[encoded data removed]",
      "text/plain": [
       "<Figure size 432x288 with 1 Axes>"
      ]
     },
     "metadata": {
      "needs_background": "light"
     },
     "output_type": "display_data"
    }
   ],
   "source": [
    "plt.plot(vals)"
   ]
  },
  {
   "cell_type": "code",
   "execution_count": 468,
   "metadata": {},
   "outputs": [],
   "source": [
    "def show(b, M):\n",
    "    p = b.reshape(M, M)\n",
    "    p = np.pad(p, 1)\n",
    "\n",
    "    # left bc\n",
    "    p[:, 0] = 0\n",
    "\n",
    "    # right bc\n",
    "    p[:, -1] = 0\n",
    "\n",
    "    # top bc\n",
    "    p[-1, :] = 0\n",
    "\n",
    "    # bottom bc\n",
    "    p[0, :] = 5\n",
    "\n",
    "    plt.imshow(p, origin='lower')\n",
    "    plt.colorbar()"
   ]
  },
  {
   "cell_type": "code",
   "execution_count": 469,
   "metadata": {},
   "outputs": [
    {
     "data": {
      "image/png": "[encoded data removed]",
      "text/plain": [
       "<Figure size 432x288 with 2 Axes>"
      ]
     },
     "metadata": {
      "needs_background": "light"
     },
     "output_type": "display_data"
    }
   ],
   "source": [
    "\n",
    "show(b, M-2)"
   ]
  },
  {
   "cell_type": "code",
   "execution_count": 414,
   "metadata": {},
   "outputs": [
    {
     "data": {
      "text/plain": [
       "array([5., 5., 5., 0., 0., 0., 0., 0., 0.])"
      ]
     },
     "execution_count": 414,
     "metadata": {},
     "output_type": "execute_result"
    }
   ],
   "source": [
    "b0"
   ]
  },
  {
   "cell_type": "code",
   "execution_count": null,
   "metadata": {},
   "outputs": [],
   "source": []
  },
  {
   "cell_type": "code",
   "execution_count": null,
   "metadata": {},
   "outputs": [],
   "source": []
  }
 ],
 "metadata": {
  "kernelspec": {
   "display_name": "Python 3",
   "language": "python",
   "name": "python3"
  },
  "language_info": {
   "codemirror_mode": {
    "name": "ipython",
    "version": 3
   },
   "file_extension": ".py",
   "mimetype": "text/x-python",
   "name": "python",
   "nbconvert_exporter": "python",
   "pygments_lexer": "ipython3",
   "version": "3.7.4"
  }
 },
 "nbformat": 4,
 "nbformat_minor": 2
}
