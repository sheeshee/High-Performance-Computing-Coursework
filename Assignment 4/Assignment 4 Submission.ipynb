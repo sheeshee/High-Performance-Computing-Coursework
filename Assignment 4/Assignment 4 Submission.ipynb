{
 "cells": [
  {
   "cell_type": "markdown",
   "metadata": {},
   "source": [
    "# Assignment 4\n",
    "\n",
    "### Samuel Sheehy (Student ID 18143565)\n",
    "\n",
    "### Techniques of High Performance Computing (PHAS0102)\n",
    "\n",
    "### MSc Scientific Computing, University College London, 2019-2020\n",
    "\n",
    "**This Jupyter Notebook is submitted as completion of the 3rd Assignment for the UCL course cited above.**"
   ]
  },
  {
   "cell_type": "code",
   "execution_count": null,
   "metadata": {},
   "outputs": [],
   "source": []
  }
 ],
 "metadata": {
  "kernelspec": {
   "display_name": "Python 3",
   "language": "python",
   "name": "python3"
  },
  "language_info": {
   "codemirror_mode": {
    "name": "ipython",
    "version": 3
   },
   "file_extension": ".py",
   "mimetype": "text/x-python",
   "name": "python",
   "nbconvert_exporter": "python",
   "pygments_lexer": "ipython3",
   "version": "3.7.3"
  }
 },
 "nbformat": 4,
 "nbformat_minor": 2
}
