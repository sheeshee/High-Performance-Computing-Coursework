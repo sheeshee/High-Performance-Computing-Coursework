{
 "cells": [
  {
   "cell_type": "markdown",
   "metadata": {},
   "source": [
    "## Assignment 2 - Example Solution"
   ]
  },
  {
   "cell_type": "markdown",
   "metadata": {},
   "source": [
    "### Question 1:"
   ]
  },
  {
   "cell_type": "markdown",
   "metadata": {},
   "source": [
    "We start with the usual imports."
   ]
  },
  {
   "cell_type": "code",
   "execution_count": 1,
   "metadata": {},
   "outputs": [],
   "source": [
    "import numpy as np\n",
    "import pyopencl as cl\n",
    "\n",
    "from scipy.sparse.linalg import LinearOperator"
   ]
  },
  {
   "cell_type": "code",
   "execution_count": 2,
   "metadata": {},
   "outputs": [
    {
     "name": "stdout",
     "output_type": "stream",
     "text": [
      "Intel(R) Core(TM) i7-8650U CPU @ 1.90GHz\n"
     ]
    }
   ],
   "source": [
    "import numpy as np\n",
    "import pyopencl as cl\n",
    "\n",
    "from scipy.sparse.linalg import LinearOperator\n",
    "\n",
    "ctx = cl.Context(dev_type=cl.device_type.CPU)\n",
    "print(ctx.devices[0].name)\n",
    "mf = cl.mem_flags\n",
    "queue = cl.CommandQueue(ctx)"
   ]
  },
  {
   "cell_type": "markdown",
   "metadata": {},
   "source": [
    "Below we have given an example implementation of the OpenCL based CSR Matrix vector product. It uses AVX2 double precision operations to speed up the parallel matrix vector product. The whole routine is wrapped into a LinearOperator class to allow it to be treated in the same way as normal sparse matrices with respect to matrix/vector products. This was not a requirement though.\n",
    "\n",
    "The following points are important:\n",
    "\n",
    "- For high marks the implementation must use vectorized operations as stated in the assignment. It does not matter whether students choose to implement 4, 8 or 16 wide vectors. The matrix size must not be restricted due to the choise of vectorisation. So, matrix dimensions which are not divisible by the vector width should work for the program.\n",
    "\n",
    "- For top marks the buffers should have the correct flags (read only for all input buffers, write only for all output bufffers). Depending on the implementation this can affect performance and is good style.\n",
    "\n",
    "- In the implementation below I have used a buffer map to transfer data from the host to the device. This is the fastest way to transfer data and will correspondingly be highest evaluated. For the output buffer maps are less relevant as at some point the data will be copied over to a Numpy array, incuring a copy operation anyway.\n",
    "\n",
    "- The program should not be compiled in the matvec routine. Compilation takes a long time and for performance reason should therefore be only done once.\n",
    "\n",
    "- The code should be well documented with performance examples given. Test runs compared to the standard sparse matrix vector product should demonstrate that the code works. In particular, it should also work for matrices that are not multiples of the vector size."
   ]
  },
  {
   "cell_type": "code",
   "execution_count": 3,
   "metadata": {},
   "outputs": [],
   "source": [
    "kernel_string = \"\"\"\n",
    "\n",
    "__kernel void matvec(__global const int *indptr, \n",
    "                     __global const int *indices, \n",
    "                     __global const double *data,\n",
    "                     __global const double *input,\n",
    "                     __global double *output)\n",
    "{\n",
    "\n",
    "int myRow = get_global_id(0);\n",
    "int myStartIndex = indptr[myRow];\n",
    "int myEndIndex = indptr[myRow + 1];\n",
    "int numberOfElements = myEndIndex - myStartIndex;\n",
    "\n",
    "int nchunks = numberOfElements / 4;\n",
    "\n",
    "double sum;\n",
    "double4 vecSum = 0;\n",
    "\n",
    "for (int chunkIndex = 0; chunkIndex < nchunks; chunkIndex++){\n",
    "    int chunkStart = myStartIndex + 4 * chunkIndex;\n",
    "    \n",
    "    double4 rowData = (double4)(data[chunkStart + 0],\n",
    "                                data[chunkStart + 1],\n",
    "                                data[chunkStart + 2],\n",
    "                                data[chunkStart + 3]);\n",
    "    double4 inputChunk = (double4)(input[indices[chunkStart + 0]],\n",
    "                                   input[indices[chunkStart + 1]],\n",
    "                                   input[indices[chunkStart + 2]],\n",
    "                                   input[indices[chunkStart + 3]]);\n",
    "    vecSum += rowData * inputChunk;\n",
    "\n",
    "    }\n",
    "\n",
    "sum = vecSum.s0 + vecSum.s1 + vecSum.s2 + vecSum.s3;\n",
    "\n",
    "for (int index = myStartIndex + 4 * nchunks; index < myEndIndex; ++index){\n",
    "        sum += data[index] * input[indices[index]];\n",
    "    }\n",
    "\n",
    "output[myRow] = sum;\n",
    "\n",
    "}\n",
    "\n",
    "\n",
    "\n",
    "\"\"\"\n",
    "\n",
    "\n",
    "class OpenCLSparseOperator(LinearOperator):\n",
    "    \"\"\"We create a sparse linear operator based on OpenCL.\"\"\"\n",
    "    \n",
    "    def __init__(self, csr_matrix):\n",
    "        \"\"\"Input must be a sparse matrix in CSR format.\"\"\"\n",
    "        \n",
    "        self.shape = csr_matrix.shape\n",
    "        self.dtype = csr_matrix.dtype\n",
    "        \n",
    "        if self.dtype != \"float64\":\n",
    "            raise ValueError(\"This class only supports matrices in double precision format.\")\n",
    "            \n",
    "        indptr = csr_matrix.indptr\n",
    "        indices = csr_matrix.indices\n",
    "        data = csr_matrix.data\n",
    "        \n",
    "        indptr_buffer = cl.Buffer(ctx, mf.READ_ONLY | mf.COPY_HOST_PTR, hostbuf=indptr.astype('int32'))\n",
    "        indices_buffer = cl.Buffer(ctx, mf.READ_ONLY | mf.COPY_HOST_PTR, hostbuf=indices.astype('int32'))\n",
    "        data_buffer = cl.Buffer(ctx, mf.READ_ONLY | mf.COPY_HOST_PTR, hostbuf=data.astype('float64'))        \n",
    "        self._input = cl.Buffer(ctx, mf.READ_ONLY, np.dtype('float64').itemsize * self.shape[1])\n",
    "        self._output = cl.Buffer(ctx, mf.WRITE_ONLY, np.dtype('float64').itemsize * self.shape[0])\n",
    "\n",
    "        self._buffers = [indptr_buffer, indices_buffer, data_buffer, self._input, self._output]\n",
    "        \n",
    "        prg = cl.Program(ctx, kernel_string).build()\n",
    "        self._kernel = prg.matvec\n",
    "        \n",
    "    def _matvec(self, x):\n",
    "        \"\"\"Perform the matrix-vector product\"\"\"\n",
    "        \n",
    "        mapped_input, _ = cl.enqueue_map_buffer(queue, self._input, cl.map_flags.WRITE, \n",
    "                                             0, self.shape[1], 'float64')\n",
    "        with mapped_input.base:\n",
    "            mapped_input[:] = x\n",
    "            \n",
    "        self._kernel(queue, (self.shape[0],), None, *self._buffers)        \n",
    "        \n",
    "        result = np.empty(self.shape[0], dtype='float64')\n",
    "        cl.enqueue_copy(queue, result, self._output)\n",
    "        queue.finish()\n",
    "        \n",
    "        return result\n",
    "        \n",
    "        "
   ]
  },
  {
   "cell_type": "code",
   "execution_count": 4,
   "metadata": {},
   "outputs": [
    {
     "name": "stderr",
     "output_type": "stream",
     "text": [
      "C:\\Users\\timob\\Anaconda3\\envs\\hpc\\lib\\site-packages\\pyopencl\\__init__.py:235: CompilerWarning: Non-empty compiler output encountered. Set the environment variable PYOPENCL_COMPILER_OUTPUT=1 to see more.\n",
      "  \"to see more.\", CompilerWarning)\n"
     ]
    },
    {
     "name": "stdout",
     "output_type": "stream",
     "text": [
      "The relative difference between the actual and expected result is: 4.0825375954189397e-16.\n"
     ]
    }
   ],
   "source": [
    "from scipy.sparse import random\n",
    "\n",
    "m = 803\n",
    "n = 1001\n",
    "density = .01\n",
    "\n",
    "mat = random(m, n, density, format='csr')\n",
    "cl_operator = OpenCLSparseOperator(mat)\n",
    "\n",
    "x = np.random.rand(n)\n",
    "\n",
    "expected = mat @ x\n",
    "actual = cl_operator @ x\n",
    "error = np.linalg.norm((expected - actual) / expected, np.inf)\n",
    "print(f\"The relative difference between the actual and expected result is: {error}.\")\n"
   ]
  },
  {
   "cell_type": "code",
   "execution_count": 29,
   "metadata": {},
   "outputs": [
    {
     "name": "stdout",
     "output_type": "stream",
     "text": [
      "429 µs ± 2.56 µs per loop (mean ± std. dev. of 7 runs, 1000 loops each)\n"
     ]
    }
   ],
   "source": [
    "%timeit y = cl_operator @ x"
   ]
  },
  {
   "cell_type": "code",
   "execution_count": 30,
   "metadata": {},
   "outputs": [
    {
     "name": "stdout",
     "output_type": "stream",
     "text": [
      "42 µs ± 6.22 µs per loop (mean ± std. dev. of 7 runs, 10000 loops each)\n"
     ]
    }
   ],
   "source": [
    "%timeit y = mat @ x"
   ]
  },
  {
   "cell_type": "markdown",
   "metadata": {},
   "source": [
    "In this example the OpenCL code is slightly faster than the Scipy code for the matrix vector product. However, this depends strongly on the size of the input data. The OpenCL code is not well optimised for minimising memory operations. This degrades the performance a bit."
   ]
  },
  {
   "cell_type": "markdown",
   "metadata": {},
   "source": [
    "### Question 2"
   ]
  },
  {
   "cell_type": "markdown",
   "metadata": {},
   "source": [
    "In this question we design an OpenCL kernel that for each given grid point evaluates the discrete Laplacian on the grid. We then wrap this into a LinearOperator object in order to solve the Poisson equation $-\\nabla^2 u = 1$ with zero boundary conditions.\n",
    "\n",
    "The following solution is slightly more general than expected in that I have added a Numba accelerated function to sample an arbitrary right-hand side function f.\n",
    "\n",
    "- Submitting code that only works for $f=1$ is all right. But doing it more general may be marked higher.\n",
    "- In the following implementation each kernel call evaluates the discrete Laplacian for one point. One could come up with implementations that are AVX accelerated. But this is not required here.\n",
    "- The implementation is designed for `float64` data types. This may not be efficient on GPUs. But for `float32` the CG solver is running into problems for smaller tolerances. An outstanding solution may comment on this issue.\n",
    "- Again, I have used a mapped buffer to transfer data to the kernel. Very good solutions should treat buffers carefully.\n",
    "- Again, for performance reasons I would expect that the kernel compilation does not take place within the matvec routine."
   ]
  },
  {
   "cell_type": "code",
   "execution_count": 5,
   "metadata": {},
   "outputs": [],
   "source": [
    "kernel_string = \"\"\"\n",
    "__kernel void discrete_laplace(__global const double* input,\n",
    "                               __global double* output,\n",
    "                               int m)\n",
    "{\n",
    "    int x_index = get_global_id(0);\n",
    "    int y_index = get_global_id(1);\n",
    "\n",
    "    double left;\n",
    "    double right;\n",
    "    double up;\n",
    "    double down;\n",
    "    double center;\n",
    "\n",
    "    center = input[m * y_index + x_index];\n",
    "    \n",
    "    if (x_index == 0)\n",
    "        left = 0.0;\n",
    "    else\n",
    "        left = input[m * y_index + x_index - 1];\n",
    "    \n",
    "    if (x_index == m-1)\n",
    "        right = 0.0;\n",
    "    else\n",
    "        right = input[m * y_index + x_index + 1];\n",
    "    \n",
    "    if (y_index == 0)\n",
    "        down = 0.0;\n",
    "    else\n",
    "        down = input[m * (y_index - 1) + x_index];\n",
    "        \n",
    "    if (y_index == m - 1)\n",
    "        up = 0.0;\n",
    "    else\n",
    "        up = input[m * (y_index + 1) + x_index];\n",
    "                \n",
    "    output[m * y_index + x_index] = (4 * center - left - right - up - down) * (m + 1) * (m + 1);\n",
    "                            \n",
    "}\n",
    "\"\"\"\n",
    "\n",
    "\n",
    "import numba\n",
    "\n",
    "@numba.njit\n",
    "def f(x, y):\n",
    "    \"\"\"Evaluate f.\"\"\"\n",
    "    return 1\n",
    "\n",
    "@numba.njit\n",
    "def sample_f(f, m):\n",
    "    \"\"\"\n",
    "    Sample the right-hand side function f on the input grid.\n",
    "    \n",
    "    Returns a vector with the sampled data, sampled row-wise, starting\n",
    "    at the bottom left part of the square.\n",
    "    \n",
    "    \"\"\"\n",
    "    \n",
    "    f_data = np.empty(m * m, dtype=np.float64)\n",
    "    \n",
    "    for y_index in range(m):\n",
    "        for x_index in range(m):\n",
    "            x = (1. + x_index) / (m + 1)\n",
    "            y = (1. + y_index) / (m + 1)\n",
    "            f_data[m * y_index + x_index] = f(x, y)\n",
    "    return f_data\n",
    "    \n",
    "\n",
    "class DiscreteLaplacian(LinearOperator):\n",
    "    \"\"\"Define the discrete Laplace Operator.\"\"\"\n",
    "    \n",
    "    def __init__(self, m):\n",
    "        \"\"\"Initialise operator with discretisation size m.\"\"\"\n",
    "        \n",
    "        self._m = m\n",
    "        \n",
    "        self.shape = (m * m, m * m)\n",
    "        self.dtype = np.dtype('float64')\n",
    "\n",
    "        self._input_buffer = cl.Buffer(ctx, mf.READ_ONLY, np.dtype('float64').itemsize * m * m)\n",
    "        self._output_buffer = cl.Buffer(ctx, mf.WRITE_ONLY, np.dtype('float64').itemsize * m * m)\n",
    "\n",
    "        self._kernel = cl.Program(ctx, kernel_string).build().discrete_laplace\n",
    "        self._buffers = [self._input_buffer, self._output_buffer, np.int32(m)]\n",
    "        \n",
    "    def _matvec(self, x):\n",
    "        \"\"\"Perform the matrix/vector product\"\"\"\n",
    "        \n",
    "        mapped_input, _ = cl.enqueue_map_buffer(queue, self._input_buffer, cl.map_flags.WRITE, \n",
    "                                             0, m * m, 'float64')\n",
    "        with mapped_input.base:\n",
    "            mapped_input[:] = x.astype('float64')\n",
    "            \n",
    "        self._kernel(queue, (m, m), None, *self._buffers)        \n",
    "        \n",
    "        result = np.empty(m * m, dtype='float64')\n",
    "        cl.enqueue_copy(queue, result, self._output_buffer)\n",
    "        queue.finish()\n",
    "        \n",
    "        return result.astype('float64')\n",
    "        \n",
    "        \n",
    "        \n",
    "    "
   ]
  },
  {
   "cell_type": "markdown",
   "metadata": {},
   "source": [
    "The following code instantiates the problem for 80 grid points in each dimension, and uses CG to solve the resulting system. We use a `callback` function to save the residuals."
   ]
  },
  {
   "cell_type": "code",
   "execution_count": 6,
   "metadata": {},
   "outputs": [
    {
     "name": "stdout",
     "output_type": "stream",
     "text": [
      "The maximum solution value is 0.07364345853018563.\n"
     ]
    }
   ],
   "source": [
    "from scipy.sparse.linalg import cg\n",
    "\n",
    "m = 80\n",
    "\n",
    "op = DiscreteLaplacian(m)\n",
    "\n",
    "b = sample_f(f, m)\n",
    "residuals = []\n",
    "\n",
    "def callback(x):\n",
    "    \"\"\"Evaluate residual\"\"\"\n",
    "    residuals.append(\n",
    "        np.linalg.norm((b - op @ x) / np.linalg.norm(x))\n",
    "    )\n",
    "\n",
    "sol, _ = cg(op, b, tol=1E-8, callback=callback)\n",
    "print(f\"The maximum solution value is {np.max(sol)}.\")\n"
   ]
  },
  {
   "cell_type": "markdown",
   "metadata": {},
   "source": [
    "The maximum solution value is a good way to test correctness of an implementation and can be easily obtained from the solution vector returned by the students. I have validated it with the finite element package FEniCS. This is not required from the students. But a very good documentation should talk about code validation.\n",
    "\n",
    "The following code provides a convergence plot for one value of m. A good documentation would include convergence plots and convergence comparisons for various values of the discretisation parameter."
   ]
  },
  {
   "cell_type": "code",
   "execution_count": 7,
   "metadata": {},
   "outputs": [
    {
     "data": {
      "text/plain": [
       "Text(0, 0.5, 'residual')"
      ]
     },
     "execution_count": 7,
     "metadata": {},
     "output_type": "execute_result"
    },
    {
     "data": {
      "image/png": "[encoded data removed]",
      "text/plain": [
       "<Figure size 432x288 with 1 Axes>"
      ]
     },
     "metadata": {
      "needs_background": "light"
     },
     "output_type": "display_data"
    }
   ],
   "source": [
    "%matplotlib inline\n",
    "from matplotlib import pyplot as plt\n",
    "fig = plt.figure()\n",
    "ax = fig.add_subplot(111)\n",
    "ax.semilogy(residuals)\n",
    "ax.set_xlabel('n')\n",
    "ax.set_ylabel('residual')"
   ]
  },
  {
   "cell_type": "markdown",
   "metadata": {},
   "source": [
    "Below is the obvious solution plot. I have extended the solution plot to include the zero boundary conditions. This is nice to do, but not necessary in this case."
   ]
  },
  {
   "cell_type": "code",
   "execution_count": 8,
   "metadata": {},
   "outputs": [
    {
     "data": {
      "text/plain": [
       "<matplotlib.image.AxesImage at 0x18cc6a67648>"
      ]
     },
     "execution_count": 8,
     "metadata": {},
     "output_type": "execute_result"
    },
    {
     "data": {
      "image/png": "[encoded data removed]",
      "text/plain": [
       "<Figure size 432x288 with 1 Axes>"
      ]
     },
     "metadata": {
      "needs_background": "light"
     },
     "output_type": "display_data"
    }
   ],
   "source": [
    "fig = plt.figure()\n",
    "ax = fig.add_subplot(111)\n",
    "\n",
    "sol_with_bnd = np.zeros((m + 1, m + 1))\n",
    "sol_with_bnd[1:m + 1, 1:m + 1] = sol.reshape(m, m)\n",
    "\n",
    "ax.imshow(sol_with_bnd, extent=[0, 1, 0, 1], origin='lower')"
   ]
  }
 ],
 "metadata": {
  "kernelspec": {
   "display_name": "Python 3",
   "language": "python",
   "name": "python3"
  },
  "language_info": {
   "codemirror_mode": {
    "name": "ipython",
    "version": 3
   },
   "file_extension": ".py",
   "mimetype": "text/x-python",
   "name": "python",
   "nbconvert_exporter": "python",
   "pygments_lexer": "ipython3",
   "version": "3.7.4"
  }
 },
 "nbformat": 4,
 "nbformat_minor": 2
}
