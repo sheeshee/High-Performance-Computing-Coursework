{
 "cells": [
  {
   "cell_type": "markdown",
   "metadata": {},
   "source": [
    "# Assignment 3\n",
    "**Samuel Sheehy (Student ID 18143565)**\n",
    "\n",
    "**Techniques of High Performance Computing (PHAS0102)**\n",
    "\n",
    "**MSc Scientific Computing, University College London**, **2019-2020**\n",
    "\n",
    "This Jupyter Notebook is submitted as completion of the 3rd Assignment for the UCL course cited above.\n",
    "\n",
    "## Setup\n",
    "This cell imports the libraries and defines the helper functions\n",
    "that will be used for the entirety of the assignment."
   ]
  },
  {
   "cell_type": "code",
   "execution_count": null,
   "metadata": {},
   "outputs": [],
   "source": []
  },
  {
   "cell_type": "markdown",
   "metadata": {},
   "source": [
    "## Question 1: Investigating Splitting Schemes\n",
    "\n",
    "* Implement Jacobi iteration:\n",
    "    - Parallelised OpenCL kernel\n",
    "    - System solved through repeated cals\n",
    "* Implement Gauss-Seidel: two different schemes: one starting with nodes at the bottom of the square and proceeding line by line, and two: start at the top and prodeed line by line to the bottom.\n",
    "    - Numba accelerated version of GS\n",
    "\n",
    "* Implement relaxed GS: updaes a single row in parallel with updated values from the previous row\n",
    "    - Parallelised across a single row\n",
    "    - OpenCL kernel\n",
    "\n",
    "* Compare convergences of GS and relaxed GS"
   ]
  },
  {
   "cell_type": "markdown",
   "metadata": {},
   "source": [
    "### Jacobi Iteration\n",
    "$$\n",
    "u_{ij}^{(n+1)} = \\frac{\n",
    "u_{i-1, j}^{(n)} +\n",
    "u_{i+1, j}^{(n)} +\n",
    "u_{i, j-1}^{(n)} +\n",
    "u_{i, j+1}^{(n)} }{4}\n",
    "$$"
   ]
  },
  {
   "cell_type": "code",
   "execution_count": null,
   "metadata": {},
   "outputs": [],
   "source": [
    "# while norm{U(+1) - U} > tol; do\n",
    "# U(+1) = OP(U)\n",
    "\n",
    "# OP such that above is true"
   ]
  },
  {
   "cell_type": "markdown",
   "metadata": {},
   "source": [
    "### Gauss-Seidel Iteration (Schemes 1 & 2)\n"
   ]
  },
  {
   "cell_type": "code",
   "execution_count": 3,
   "metadata": {},
   "outputs": [],
   "source": [
    "# for each iteration:\n",
    "#  for point in stencil: \n",
    "#    update\n",
    "#  measure difference, stop if tolerance met"
   ]
  },
  {
   "cell_type": "markdown",
   "metadata": {},
   "source": [
    "### Relaxed Gauss-Seidel Iteration"
   ]
  },
  {
   "cell_type": "code",
   "execution_count": null,
   "metadata": {},
   "outputs": [],
   "source": [
    "# for each iteration\n",
    "# for each element (parallelised with OpenCL):\n",
    "#     update corresponding element in next row"
   ]
  },
  {
   "cell_type": "markdown",
   "metadata": {},
   "source": [
    "### Convergence Comparison: Relaxed GS vs. GS"
   ]
  },
  {
   "cell_type": "code",
   "execution_count": null,
   "metadata": {},
   "outputs": [],
   "source": [
    "    "
   ]
  },
  {
   "cell_type": "markdown",
   "metadata": {},
   "source": [
    "## Question 2: Precondition Iterative Solvers\n",
    "* Write a routine that for a given grid parameter $h$ generates a 5-poin stencils discretisation of this domain and for a iven boudary function f heneates the matrix A and the right hand sise b of the discrete linear system Ax = b explicelt. A must use CSR sparse format\n",
    "    - Use Scipy sparse matrices - do *not* generate dense then convert\n",
    "* Solve the associae linear system directly with CG and visualie the solution. Study the convergence of CG as you increase the number of discretisation points\n",
    "* Use the ILU of our system matrix as an appropriate precondition and investigate for different values of the drop factos how the congergence of CG changes.\n"
   ]
  },
  {
   "cell_type": "markdown",
   "metadata": {},
   "source": [
    "### Create 5-point stencil matrix"
   ]
  },
  {
   "cell_type": "code",
   "execution_count": null,
   "metadata": {},
   "outputs": [],
   "source": []
  },
  {
   "cell_type": "markdown",
   "metadata": {},
   "source": [
    "### Solve with CG"
   ]
  },
  {
   "cell_type": "code",
   "execution_count": null,
   "metadata": {},
   "outputs": [],
   "source": []
  },
  {
   "cell_type": "markdown",
   "metadata": {},
   "source": [
    "#### Visualise"
   ]
  },
  {
   "cell_type": "code",
   "execution_count": null,
   "metadata": {},
   "outputs": [],
   "source": []
  },
  {
   "cell_type": "markdown",
   "metadata": {},
   "source": [
    "#### Study Convergence"
   ]
  },
  {
   "cell_type": "code",
   "execution_count": null,
   "metadata": {},
   "outputs": [],
   "source": []
  },
  {
   "cell_type": "markdown",
   "metadata": {},
   "source": [
    "### Impact of ILU Preconditioner"
   ]
  },
  {
   "cell_type": "code",
   "execution_count": null,
   "metadata": {},
   "outputs": [],
   "source": [
    "# Investigate how CG changes for different values of drop factors\n",
    "# of the ILU routine"
   ]
  }
 ],
 "metadata": {
  "kernelspec": {
   "display_name": "Python 3",
   "language": "python",
   "name": "python3"
  },
  "language_info": {
   "codemirror_mode": {
    "name": "ipython",
    "version": 3
   },
   "file_extension": ".py",
   "mimetype": "text/x-python",
   "name": "python",
   "nbconvert_exporter": "python",
   "pygments_lexer": "ipython3",
   "version": "3.7.3"
  }
 },
 "nbformat": 4,
 "nbformat_minor": 2
}
