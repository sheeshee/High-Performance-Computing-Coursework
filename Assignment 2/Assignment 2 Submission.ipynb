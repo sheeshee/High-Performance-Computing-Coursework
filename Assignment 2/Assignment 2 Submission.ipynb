{
 "cells": [
  {
   "cell_type": "markdown",
   "metadata": {},
   "source": [
    "# Assignment 2\n",
    "**Samuel Sheehy (Student ID 18143565)**\n",
    "\n",
    "**Techniques of High Performance Computing (PHAS0102)**\n",
    "\n",
    "**MSc Scientific Computing, University College London**, **2019-2020**\n",
    "\n",
    "## Setup\n",
    "This cell imports the libraries and defines the helper functions\n",
    "that will be used for the entirety of the assignment."
   ]
  },
  {
   "cell_type": "code",
   "execution_count": 181,
   "metadata": {},
   "outputs": [],
   "source": [
    "# Enture libraries\n",
    "import numpy as np\n",
    "import matplotlib.pyplot as plt\n",
    "import time\n",
    "import pyopencl as cl\n",
    "\n",
    "# Specific Functions\n",
    "from scipy.sparse import find, random, csr_matrix\n",
    "from scipy.sparse.linalg import LinearOperator, cg\n",
    "\n",
    "\n",
    "# User-define helper functions\n",
    "class Timer:\n",
    "    \"\"\"\n",
    "    A simple timer class to measure the execution time\n",
    "    of a function (seconds) in a ```with``` block.\n",
    "    Taken from module lecture notes.\n",
    "    \"\"\"\n",
    "    def __enter__(self):\n",
    "        \"\"\"\n",
    "        Measure time at start.\n",
    "        \"\"\"\n",
    "        self.start = time.time()\n",
    "        return self\n",
    "\n",
    "    def __exit__(self, *args):\n",
    "        \"\"\"\n",
    "        Measure time at end and take difference\n",
    "        from start.\n",
    "        \"\"\"\n",
    "        self.end = time.time()\n",
    "        self.interval = self.end - self.start"
   ]
  },
  {
   "cell_type": "markdown",
   "metadata": {},
   "source": [
    "## Question 1: OpenCL CSR matrix-vector product\n",
    "\n",
    "#### Approach:\n",
    "The matvec is a series of additions and multiplications that must be done multiple times for different data elements. To optimise performance, we parallelise each row/vector-element operation, and within each of these we use SIMD features to maximise execution speed.\n"
   ]
  },
  {
   "cell_type": "code",
   "execution_count": 182,
   "metadata": {},
   "outputs": [],
   "source": [
    "# Here we generate a random sparse matrix in the CSR format\n",
    "# and save it as three distinct objects (index pointers, \n",
    "# indicies and data)\n",
    "def generate_sparse_matrix(rows, columns, density=0.3):\n",
    "    \"\"\"\n",
    "    Generate a random sparse matrix of shape (rows x columns)\n",
    "    in CRS format and return the index pointer array, column \n",
    "    indices and data as three distinct objects as well as a\n",
    "    dense copy of the matrix.\n",
    "    \"\"\"\n",
    "    sparse_matrix = random(rows, columns, density=density, format='csr')\n",
    "    return (sparse_matrix.indptr, sparse_matrix.indices,\n",
    "            sparse_matrix.data), sparse_matrix.A\n",
    "\n",
    "# Set size of the matrix\n",
    "N = 100\n",
    "rows = N\n",
    "columns = N\n",
    "# Execute matrix generation and aquire it in \n",
    "# both sparse and dense format (for testing)\n",
    "(A_sparse_matrix), A_copy = generate_sparse_matrix(rows, columns)"
   ]
  },
  {
   "cell_type": "code",
   "execution_count": 24,
   "metadata": {},
   "outputs": [],
   "source": [
    "def bytesize(N, dtype_str):\n",
    "    \"\"\"\n",
    "    Returns the number of bytes that an array of element\n",
    "    size N occupies\n",
    "    \"\"\"\n",
    "    if dtype_str == 'float64':\n",
    "        return N*4\n",
    "    elif dtype_str == 'uint64':\n",
    "        return N*4\n",
    "    elif dtype_str == 'double':\n",
    "        return N*8\n",
    "\n",
    "\n",
    "class OpenCL_LOp(LinearOperator):\n",
    "    \"\"\"\n",
    "    Created in reference to the PyLops Linear Operator tutorial.\n",
    "    \"\"\"\n",
    "    def __init__(self, rows, columns, sparse_matrix, data_type=np.float64):\n",
    "        \"\"\"\n",
    "        Set up the subclass, giving it the required properties: shape,\n",
    "        data type and whether its inverse can be found explicitly, and\n",
    "        the matrix itself\n",
    "        \"\"\"\n",
    "        # Setup parameters\n",
    "        self.shape = [rows, columns]\n",
    "        self.dtype =  np.dtype(data_type)\n",
    "        self.explicit = False\n",
    "        # Store the sparse matrix\n",
    "        self.indptr, self.indices, self.data = sparse_matrix\n",
    "        # Create the OpenCL tool\n",
    "        self.openCL_matvec = initialise_OCL_kernel(self.indptr,\n",
    "            self.indices, self.data, self.shape)\n",
    "\n",
    "    def _matvec(self, x):\n",
    "        \"\"\"\n",
    "        Apply the initialised operator to the given vector.\n",
    "        \"\"\"\n",
    "        return self.openCL_matvec(x)\n",
    "\n",
    "\n",
    "def initialise_slow_kernel(indptr, indicies, data, shape):\n",
    "    \"\"\"\n",
    "    Generate a simple operator to perform\n",
    "    the matrix-vector product of the given sparse\n",
    "    matrix on a vector x.\n",
    "    \"\"\"\n",
    "    def func(x):\n",
    "        \"\"\"\"\"\"\n",
    "        y = np.zeros(shape[0])\n",
    "        n = len(indptr) - 1\n",
    "        for i in range(n):\n",
    "            y[i] = data[indptr[i]:indptr[i+1]].dot(\n",
    "                x[indices[indptr[i]:indptr[i+1]]]\n",
    "            )\n",
    "        return y\n",
    "        \"\"\"\"\"\"\n",
    "    return func\n",
    "\n",
    "\n",
    "def initialise_OCL_kernel(indptr, indicies, data, shape):\n",
    "    \"\"\"\n",
    "    Generate OpenCL-implemented operator to perform\n",
    "    the matrix-vector product of the given sparse\n",
    "    matrix on a vector x.\n",
    "    \"\"\"\n",
    "    # Unpack shape parameter\n",
    "    mat_rows, columns = shape\n",
    "    # OpenCL C-Language Kernel\n",
    "    # This implements the row-wise dot product\n",
    "    kernel = \"\"\"\n",
    "        __kernel void matvec(\n",
    "            __global uint *indptr,\n",
    "            __global uint *indicies,\n",
    "            __global double *data,\n",
    "            __global double *myvector,\n",
    "            __global double *result\n",
    "        )\n",
    "        {        \n",
    "        // Get Global Identifiers i.e. the row index\n",
    "        int row_index = get_global_id(0);\n",
    "\n",
    "        // Do the dot product\n",
    "        int start = indptr[row_index];\n",
    "        int end = indptr[row_index + 1];\n",
    "        int k;\n",
    "        double sum = 0;\n",
    "        double8 data_8;\n",
    "        double8 vector_8;\n",
    "        double8 product_8;\n",
    "        int extra = (end-start) % 8;\n",
    "        \n",
    "        for(k=start; k < end-extra; k=k+8){\n",
    "            \n",
    "            data_8 = (double8)(data[k + 0],\n",
    "                               data[k + 1],\n",
    "                               data[k + 2],\n",
    "                               data[k + 3],\n",
    "                               data[k + 4],\n",
    "                               data[k + 5],\n",
    "                               data[k + 6],\n",
    "                               data[k + 7]);\n",
    "                               \n",
    "            vector_8 = (double8)(myvector[indicies[k + 0]],\n",
    "                                 myvector[indicies[k + 1]],\n",
    "                                 myvector[indicies[k + 2]],\n",
    "                                 myvector[indicies[k + 3]],\n",
    "                                 myvector[indicies[k + 4]],\n",
    "                                 myvector[indicies[k + 5]],\n",
    "                                 myvector[indicies[k + 6]],\n",
    "                                 myvector[indicies[k + 7]]);\n",
    "        \n",
    "            product_8 = data_8 * vector_8;\n",
    "            \n",
    "            sum += product_8.s1 + product_8.s2\n",
    "                   + product_8.s3 + product_8.s4\n",
    "                   + product_8.s5 + product_8.s6\n",
    "                   + product_8.s7 + product_8.s0;\n",
    "        }\n",
    "        \n",
    "        // Move the counter up to the last accessed\n",
    "        // element and calculate the products individually for the \n",
    "        // terms that are too few for a double8\n",
    "        for(int k = end-extra; k < end; k=k+1){\n",
    "            sum += data[k]*myvector[indicies[k]];\n",
    "        }       \n",
    "        \n",
    "        // Output answer\n",
    "        result[row_index] = sum;\n",
    "        \n",
    "        }\n",
    "    \"\"\"\n",
    "    # Initialise the OpenCL environment\n",
    "    ctx = cl.create_some_context()\n",
    "    queue = cl.CommandQueue(ctx)\n",
    "    mf = cl.mem_flags\n",
    "    \n",
    "    # Create the buffers to hold the sparse matrix data\n",
    "    indptr_buffer = cl.Buffer(ctx, mf.COPY_HOST_PTR | mf.READ_ONLY, hostbuf=indptr)\n",
    "    indicies_buffer = cl.Buffer(ctx, mf.COPY_HOST_PTR | mf.READ_ONLY, hostbuf=indicies)\n",
    "    data_buffer = cl.Buffer(ctx, mf.COPY_HOST_PTR | mf.READ_ONLY, hostbuf=data)\n",
    "    \n",
    "    # Create the buffer to hold the vector data\n",
    "    vector_buffer = cl.Buffer(ctx, mf.READ_ONLY, bytesize(columns, 'double'))\n",
    "    mapped_vector_buffer, linking_event = cl.enqueue_map_buffer(\n",
    "        queue, vector_buffer, cl.map_flags.WRITE, 0, columns, np.dtype('double'))\n",
    "    linking_event.wait()\n",
    "    \n",
    "    # Create buffer to hold the result\n",
    "    result_buffer = cl.Buffer(ctx, mf.READ_WRITE, bytesize(mat_rows, 'double'))\n",
    "#     mapped_result, _ = cl.enqueue_map_buffer(queue, result_buffer, cl.map_flags.READ,\n",
    "#                                       0, mat_rows, np.double) \n",
    "\n",
    "    \n",
    "    # Build the Kernel\n",
    "    prg = cl.Program(ctx, kernel)\n",
    "    prg.build()\n",
    "    matvec_kernel = prg.matvec\n",
    "    \n",
    "    # Define what to be executed when matvec is called\n",
    "    def exec_kernel(x):\n",
    "        # Rewrite vector buffer\n",
    "        mapped_vector_buffer[:] = x\n",
    "\n",
    "        # Run the kernel\n",
    "        matvec_kernel(\n",
    "            # Workspace parameters\n",
    "            queue, (mat_rows, ), (1, ),\n",
    "            # Buffers\n",
    "            indptr_buffer, indicies_buffer, data_buffer,\n",
    "            vector_buffer, result_buffer\n",
    "        )\n",
    "        \n",
    "        mapped_result, _ = cl.enqueue_map_buffer(queue, result_buffer, cl.map_flags.READ,\n",
    "                                      0, mat_rows, np.double) \n",
    "        return mapped_result\n",
    "    # Pass the kernel executor to the class\n",
    "    return exec_kernel"
   ]
  },
  {
   "cell_type": "code",
   "execution_count": 25,
   "metadata": {},
   "outputs": [
    {
     "name": "stdout",
     "output_type": "stream",
     "text": [
      "3.4332275390625e-05\n",
      "0.0004830360412597656\n"
     ]
    },
    {
     "data": {
      "text/plain": [
       "True"
      ]
     },
     "execution_count": 25,
     "metadata": {},
     "output_type": "execute_result"
    }
   ],
   "source": [
    "mylop = OpenCL_LOp(rows, columns, A_sparse_matrix)\n",
    "x = np.ones(columns)\n",
    "\n",
    "with Timer() as t:\n",
    "    control = A_copy.dot(x)\n",
    "print(t.interval)\n",
    "\n",
    "with Timer() as t:\n",
    "    myres = mylop.matvec(x)\n",
    "print(t.interval)\n",
    "\n",
    "# print(np.linalg.norm(control - myres))\n",
    "# print(control)\n",
    "# print(myres)\n",
    "np.allclose(control, myres)"
   ]
  },
  {
   "cell_type": "markdown",
   "metadata": {},
   "source": [
    "## Question 2: Solving a Poisson Problem with OpenCL"
   ]
  },
  {
   "cell_type": "markdown",
   "metadata": {},
   "source": [
    "To consider:\n",
    "* Parallelisation is over all interior points\n",
    "* BCs are all 0\n",
    "\n",
    "Steps:\n",
    "1. Implement a LOP\n",
    "2. Integrate LOP into CG solver\n",
    "3. Analyse with M: (a) convergence of residual, (b) number of iterations\n",
    "4. Plot the solution"
   ]
  },
  {
   "cell_type": "markdown",
   "metadata": {},
   "source": [
    "### Construct the Matrix"
   ]
  },
  {
   "cell_type": "code",
   "execution_count": 152,
   "metadata": {},
   "outputs": [],
   "source": [
    "def shift(N, k):\n",
    "    \"\"\"\n",
    "    Return the indicies of the diagonal+k of a square\n",
    "    matrix.\n",
    "    \"\"\"\n",
    "    i, j = np.diag_indices(N)\n",
    "    shifted_j = [x+k for x in j]\n",
    "    if k > 0:\n",
    "        shifted_i = i[0:-k]\n",
    "        shifted_j = shifted_j[0:-k]\n",
    "    elif k < 0:\n",
    "        shifted_i = i[abs(k):]\n",
    "        shifted_j = shifted_j[abs(k):]\n",
    "    else:\n",
    "        return i, j\n",
    "    return shifted_i, np.array(shifted_j)\n",
    "\n",
    "\n",
    "def drop_edges(diag_indx, val, N):\n",
    "    \"\"\"\n",
    "    Return the indicies of the given tuple with those\n",
    "    corresponding to edge fields dropped, indicated \n",
    "    by val (either 2 or N-1).\n",
    "    \"\"\"\n",
    "    # Row gives pairing\n",
    "    rows, columns = diag_indx\n",
    "    i = rows//(N-2)+2\n",
    "    j = rows%(N-2)+2\n",
    "    \n",
    "    rows = [row for row, jx in zip(rows, j) if jx != val]\n",
    "    columns = [col for col, jx in zip(columns, j) if jx != val]\n",
    "    return rows, columns\n",
    "\n",
    "\n",
    "def generate_operator_matrix(N):\n",
    "    \"\"\"\n",
    "    Generates a sparse matrix to operate on the\n",
    "    problem for a given edge size N\n",
    "    \"\"\"\n",
    "    # Size of the Operator\n",
    "    Nop = N**2 - 2*N - 2*(N-2)\n",
    "\n",
    "    # Create the Operator Matrix\n",
    "    # Diagonal of 4\n",
    "    A = np.eye(Nop)*4\n",
    "\n",
    "    # Diagonal+1 of -1 except when j=N-1\n",
    "    shift_plus_1 = shift(Nop, 1)\n",
    "    shift_plus_1m = drop_edges(shift_plus_1, N-1, N)\n",
    "\n",
    "    A[shift_plus_1m] = -1\n",
    "\n",
    "    # Diagnoal-1 of -1 except when j=2\n",
    "    shift_minus_1 = shift(Nop, -1)\n",
    "    shift_minus_1m = drop_edges(shift_minus_1, 2, N)\n",
    "    A[shift_minus_1m] = -1\n",
    "\n",
    "    # Diagonal+(N-2) of -1\n",
    "    A[shift(Nop, N-2)] = -1\n",
    "\n",
    "    # Diagonal-(N-2) of -1\n",
    "    A[shift(Nop, -(N-2))] = -1\n",
    "\n",
    "    return Nop, csr_matrix(A)\n",
    "\n",
    "\n",
    "def generate_OCL_LOP(N):\n",
    "    \"\"\"\n",
    "    \"\"\"\n",
    "    Nop, A_sp = generate_operator_matrix(N)\n",
    "    sparse_matrix = (A_sp.indptr, A_sp.indices, A_sp.data)\n",
    "    CGLop = OpenCL_LOp(Nop, Nop, sparse_matrix)\n",
    "    return Nop, CGLop"
   ]
  },
  {
   "cell_type": "code",
   "execution_count": 153,
   "metadata": {},
   "outputs": [
    {
     "name": "stdout",
     "output_type": "stream",
     "text": [
      "0.014901161193847656\n",
      "0.037316083908081055\n"
     ]
    },
    {
     "data": {
      "text/plain": [
       "True"
      ]
     },
     "execution_count": 153,
     "metadata": {},
     "output_type": "execute_result"
    }
   ],
   "source": [
    "Nop, A_sp = generate_operator_matrix(75)\n",
    "sparse_matrix = (A_sp.indptr, A_sp.indices, A_sp.data)\n",
    "CGLop = OpenCL_LOp(Nop, Nop, sparse_matrix)\n",
    "\n",
    "with Timer() as t:\n",
    "    u_Asp, info_Asp = cg(A_sp, np.ones(Nop))\n",
    "print(t.interval)\n",
    "\n",
    "with Timer() as t:\n",
    "    u_lop, info_lop = cg(CGLop, np.ones(Nop))\n",
    "print(t.interval)\n",
    "\n",
    "# print(np.linalg.norm(u_Asp - u_lop))\n",
    "# print(u_lop)\n",
    "# print(u_Asp)\n",
    "np.allclose(u_lop, u_Asp)"
   ]
  },
  {
   "cell_type": "code",
   "execution_count": 154,
   "metadata": {},
   "outputs": [],
   "source": [
    "def measure_convergence(LOP, Nop):\n",
    "    \"\"\"\n",
    "    For each iterate, measure and record the residual.\n",
    "    \"\"\"\n",
    "    b = np.ones(Nop)\n",
    "    record = []\n",
    "    def residual(u):\n",
    "        \"\"\"\n",
    "        Calculate the residual.\n",
    "        \"\"\"\n",
    "        residual = np.linalg.norm(b-LOP.matvec(u), 2)/np.linalg.norm(b)\n",
    "        record.append(residual)\n",
    "    # Execute solve and return results\n",
    "    usol, info = cg(LOP, b, callback=residual)    \n",
    "    return usol, record\n",
    "\n",
    "\n",
    "def multi_N_convergence(N_list):\n",
    "    \"\"\"\n",
    "    Solves the problem and measures convergence\n",
    "    for each problem of size given in the list.\n",
    "    \"\"\"\n",
    "    multi_residuals = []\n",
    "    muti_iterates = []\n",
    "    for N in N_list:\n",
    "        Nop, A_sp = generate_operator_matrix(N)\n",
    "        sparse_matrix = (A_sp.indptr, A_sp.indices, A_sp.data)\n",
    "        CGLop = OpenCL_LOp(Nop, Nop, sparse_matrix)\n",
    "        _, residuals = measure_convergence(CGLop, Nop)\n",
    "        iterates = [i for i, _ in enumerate(residuals)]\n",
    "        multi_residuals.append(residuals)\n",
    "        muti_iterates.append(iterates)\n",
    "    return muti_iterates, multi_residuals"
   ]
  },
  {
   "cell_type": "code",
   "execution_count": 180,
   "metadata": {},
   "outputs": [
    {
     "data": {
      "image/png": "[encoded data removed]",
      "text/plain": [
       "<Figure size 600x400 with 1 Axes>"
      ]
     },
     "metadata": {
      "needs_background": "light"
     },
     "output_type": "display_data"
    }
   ],
   "source": [
    "N_list = [15, 25, 35, 50, 70]\n",
    "iterations, residuals_list = multi_N_convergence(N_list)\n",
    "for N, iterates, residuals in zip(N_list, iterations, residuals_list):\n",
    "    plt.semilogy(iterates, residuals, label='M=%i'%N)\n",
    "    plt.legend()\n",
    "fig = plt.gcf()\n",
    "fig.set_dpi(100)\n",
    "plt.show()"
   ]
  },
  {
   "cell_type": "code",
   "execution_count": 176,
   "metadata": {},
   "outputs": [
    {
     "data": {
      "image/png": "[encoded data removed]",
      "text/plain": [
       "<Figure size 600x400 with 1 Axes>"
      ]
     },
     "metadata": {
      "needs_background": "light"
     },
     "output_type": "display_data"
    }
   ],
   "source": [
    "iter_count = [iterates[-1] for iterates in iterations]\n",
    "plt.plot(N_list, iter_count, '-o')\n",
    "fig = plt.gcf()\n",
    "fig.set_dpi(100)\n",
    "plt.show()"
   ]
  },
  {
   "cell_type": "code",
   "execution_count": 179,
   "metadata": {},
   "outputs": [
    {
     "data": {
      "image/png": "[encoded data removed]",
      "text/plain": [
       "<Figure size 600x400 with 2 Axes>"
      ]
     },
     "metadata": {
      "needs_background": "light"
     },
     "output_type": "display_data"
    }
   ],
   "source": [
    "def format_shape(sol, N):\n",
    "    \"\"\"\n",
    "    Formats the solution vector back into\n",
    "    the original shape and adding in the \n",
    "    boundary conditions.\n",
    "    \"\"\"\n",
    "    # The inner square does not have the 1st or\n",
    "    # last value\n",
    "    inner_N = N-2\n",
    "    shaped = sol.reshape((inner_N, inner_N))\n",
    "    # Return the reshaped array with 0's around it\n",
    "    # corresponding to the BC's\n",
    "    return np.pad(shaped, 1, mode='constant')\n",
    "\n",
    "N=50\n",
    "Nop, LOP = generate_OCL_LOP(N)\n",
    "sol, info_lop = cg(LOP, np.ones(Nop))\n",
    "plt.imshow(format_shape(sol, N))\n",
    "plt.colorbar()\n",
    "fig = plt.gcf()\n",
    "fig.set_dpi(100)"
   ]
  },
  {
   "cell_type": "code",
   "execution_count": null,
   "metadata": {},
   "outputs": [],
   "source": []
  }
 ],
 "metadata": {
  "kernelspec": {
   "display_name": "Python 3",
   "language": "python",
   "name": "python3"
  },
  "language_info": {
   "codemirror_mode": {
    "name": "ipython",
    "version": 3
   },
   "file_extension": ".py",
   "mimetype": "text/x-python",
   "name": "python",
   "nbconvert_exporter": "python",
   "pygments_lexer": "ipython3",
   "version": "3.7.4"
  }
 },
 "nbformat": 4,
 "nbformat_minor": 2
}
