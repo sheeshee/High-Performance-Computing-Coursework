{
 "cells": [
  {
   "cell_type": "markdown",
   "metadata": {},
   "source": [
    "# Assignment 1\n",
    "**Samuel Sheehy (Student ID 18143565)**\n",
    "\n",
    "**Techniques of High Performance Computing (PHAS0102)**\n",
    "\n",
    "**MSc Scientific Computing, University College London**, **2019-2020**"
   ]
  },
  {
   "cell_type": "markdown",
   "metadata": {},
   "source": [
    "## Setup Notebook\n",
    "Import libraries that will be used for the completion of both questions."
   ]
  },
  {
   "cell_type": "code",
   "execution_count": 117,
   "metadata": {},
   "outputs": [],
   "source": [
    "import numpy as np\n",
    "import matplotlib.pyplot as plt\n",
    "from numba import njit, prange\n",
    "from time import clock"
   ]
  },
  {
   "cell_type": "markdown",
   "metadata": {},
   "source": [
    "## Question 1: Random Walk on a Lattice\n",
    "The objective is to estimate the probability function of a particle reaching the bottom edge of a lattice as it moves randomly over the lattice. In a fist instance, I implemented a version of the code with no concern for speed, which I then optimised for performance. Only the optimised version is presented here.\n",
    "\n",
    "The following conventions are set explicitly for reference during the implementation:\n",
    "* 0 is North, 1 is East, 2 is South, 3 is West\n",
    "* Moving North decreases position, moving East increases position\n",
    "* Longitudinal movement is index 0, Latteral movement is index 1\n",
    "* A run will only finish when a particle reaches an edge\n",
    "* A run is considered a success when the particle has reached the bottom edge. Otherwise it is considered a failure.\n",
    "\n",
    "The approach to optimising the code was to consider methods that would both increase execution speed and reduce down time on any of the processors. Thus, instead of performing a run consisting of a sinlge particle placed on the lattice, in a run each lattice point is initialised with particle and a set of random movements is applied to all the particles simultaneously. This allows the algorithm to make use of efficient implementations of vector addition. As the particles progress in their random walks, when one reaches an edge, it is removed from the next round of step execution. This ensures that points to do keep moving once they have reached an edge and that the code is not performing additions on particles that cannot move anyway.\n",
    "\n",
    "The code is implemented using ```numba```'s JIT compiler. This tool allows the code to run fast and it makes available Numba's parallel processing feature. The ```numexpr``` library was considered for this implementation, but while Numexpr has multicore abilities when Intel's MLK libraries are installed, this is not guaranteed to be the case on every machine. Because ```numexpr``` is nor compatible with ```numba```, this meant that it could not be used in this implementation. Python's ```multiprocessing``` library was also considered; however, considering the simplicity of this program, the overhead for using these features was too high, especially when numba'a automatic parallelisation feature is available.\n",
    "\n",
    "First the code is presented followed by an analysis of lattice's convergence.\n",
    "\n",
    "### Perfomance-Optimised Code"
   ]
  },
  {
   "cell_type": "code",
   "execution_count": 119,
   "metadata": {},
   "outputs": [],
   "source": [
    "#                                                                 #\n",
    "#     Performance-Optimised Implementation of a Random Walk       # \n",
    "#                                                                 #\n",
    "#                                                                 #\n",
    "\n",
    "@njit(['float64[:,:](int64)'])\n",
    "def initialise_starting_points(size):\n",
    "    \"\"\"\n",
    "    Create a set of vectors representing every point\n",
    "    on the lattice. These are generated all at once so that\n",
    "    the program can apply steps to each particle in one\n",
    "    vector addition. This is faster than following only one\n",
    "    particle at a time.\n",
    "    \"\"\"\n",
    "    number_of_points = size**2\n",
    "    indexes = np.arange(number_of_points)\n",
    "    starting_points = np.empty((number_of_points, 2))\n",
    "    starting_points[:, 0] = indexes%size # Generates column indexes\n",
    "    starting_points[:, 1] = indexes//size # Generates row indexes\n",
    "    return starting_points\n",
    "\n",
    "\n",
    "@njit(['float64[:,:](int64)'])\n",
    "def generate_random_steps(number_of_points):\n",
    "    \"\"\"\n",
    "    Generate a set of random steps. Numba did not seem\n",
    "    to support an integer being used to select entries\n",
    "    from a smaller matrix, so to enable vector-wise generation\n",
    "    of random steps, this function implements trigonometric functions.\n",
    "    \"\"\"\n",
    "    steps = np.zeros((number_of_points, 2))\n",
    "    output = np.empty_like(steps)\n",
    "    directions = np.random.randint(0, 4, (number_of_points))\n",
    "    steps[:, 0] = np.cos(directions/4*2*np.pi)\n",
    "    steps[:, 1] = np.sin(directions/4*2*np.pi)\n",
    "    np.round(steps, 1, output)\n",
    "    return output\n",
    "    \n",
    "\n",
    "@njit(['float64[:,:](float64[:,:], float64[:,:])'])\n",
    "def step(particles, steps):\n",
    "    \"\"\"\n",
    "    Peform a step on the given particles, returning their new\n",
    "    position.\n",
    "    \"\"\"\n",
    "    return particles+steps\n",
    "    \n",
    "    \n",
    "\n",
    "@njit(['float64[:,:](float64[:,:])'])\n",
    "def step_randomly(particles):\n",
    "    \"\"\"\n",
    "    Perform a step in a random direction for each respective\n",
    "    point provided to the function.\n",
    "    \"\"\"\n",
    "    number_of_points = len(particles)\n",
    "    steps = generate_random_steps(number_of_points)\n",
    "    return step(particles, steps)\n",
    "\n",
    "\n",
    "@njit(['float64[:](float64[:,:], int64)'])\n",
    "def get_states(particles, size):\n",
    "    \"\"\"\n",
    "    Determine the state of each particle provided: is it on the lower\n",
    "    border, a different border, or on none.\n",
    "    \"\"\"\n",
    "    states = np.zeros((size**2, 1))\n",
    "    actual_width = particles[:, 0]\n",
    "    actual_height = particles[:, 1]\n",
    "    on_south = actual_height >= (size-1)\n",
    "    on_north = actual_height <= 0\n",
    "    on_east = actual_width >= (size-1) \n",
    "    on_west = actual_width <= 0 \n",
    "    states[on_north | on_east | on_west] = 1\n",
    "    states[on_south] = 2\n",
    "    return states.flatten() # Return a 1-D array\n",
    "\n",
    "\n",
    "@njit(['float64[:,:](float64[:,:], int64)'])\n",
    "def random_walk(particles, size):\n",
    "    \"\"\"\n",
    "    Perform a run on every point in the lattice, by repeatidly stepping\n",
    "    the points in random directions. Once a particle has reached\n",
    "    a \"finished\" state (i.e. it has reached a border), it is filtered\n",
    "    out from performing new steps to avoid pointless calculations and\n",
    "    gain some computational efficiency.\n",
    "    \"\"\"\n",
    "    states = get_states(particles, size)\n",
    "    while particles[states == 0].size > 0:\n",
    "        particles[states == 0] = step_randomly(particles[states == 0])\n",
    "        states = get_states(particles, size)\n",
    "    return particles\n",
    "\n",
    "\n",
    "@njit(['float64[:](float64[:,:], int64)'])\n",
    "def get_success(particles, size):\n",
    "    \"\"\"\n",
    "    Determine if the particle has succeeded in reaching the bottom\n",
    "    edge. \n",
    "    \"\"\"\n",
    "    states = get_states(particles, size)\n",
    "    successes = states >= 2 # In the final addition of all the states\n",
    "                            # the bottom-left and bottom-right corners\n",
    "                            # come to 3, so the greater-than symbold \n",
    "                            # ensures they are included in the success\n",
    "                            # scale\n",
    "    return successes*1.0 # Converts from integer to float\n",
    "\n",
    "\n",
    "@njit(['float64[:,:](int64, int64)'], parallel=True)\n",
    "def measure_success(iterations, size):\n",
    "    \"\"\"\n",
    "    Perform the measurement of the success rate on all points\n",
    "    of the lattice for the given number of iterations. This\n",
    "    implements ```numba```'s automatic parallelisation feature,\n",
    "    so that multiple experiments can run concurrently.\n",
    "    \"\"\"\n",
    "    # Initialise results container\n",
    "    results = np.zeros((size**2,), dtype=np.double)\n",
    "    # Parallel-section\n",
    "    for _ in prange(iterations):\n",
    "        # Setup\n",
    "        particles = initialise_starting_points(size)\n",
    "        # Run Measurment\n",
    "        particles = random_walk(particles, size)\n",
    "        # Save results\n",
    "        results += get_success(particles, size)\n",
    "    # Transform number of successes into a fraction based on\n",
    "    # the total number of runs\n",
    "    results = results.reshape(size, size)/iterations\n",
    "    return results\n",
    "\n",
    "\n",
    "def show_success_map(results_matrix):\n",
    "    \"\"\"\n",
    "    Creates a heatmap of the results using pyplot's imshow. The numbers\n",
    "    are automatically scaled to fit the colormap.\n",
    "    \"\"\"\n",
    "    plt.imshow(results_matrix, cmap='hot', interpolation='nearest')\n",
    "    plt.colorbar()\n",
    "    plt.show()   "
   ]
  },
  {
   "cell_type": "code",
   "execution_count": 111,
   "metadata": {},
   "outputs": [
    {
     "data": {
      "image/png": "[encoded data removed]",
      "text/plain": [
       "<Figure size 432x288 with 2 Axes>"
      ]
     },
     "metadata": {
      "needs_background": "light"
     },
     "output_type": "display_data"
    }
   ],
   "source": [
    "size = 25\n",
    "iterations = 1000\n",
    "results = measure_success(iterations, size)\n",
    "show_success_map(results)"
   ]
  },
  {
   "cell_type": "code",
   "execution_count": 115,
   "metadata": {},
   "outputs": [
    {
     "name": "stdout",
     "output_type": "stream",
     "text": [
      "215 ms ± 5.83 ms per loop (mean ± std. dev. of 7 runs, 1 loop each)\n"
     ]
    }
   ],
   "source": [
    "%timeit measure_success(iterations, size)"
   ]
  },
  {
   "cell_type": "markdown",
   "metadata": {},
   "source": [
    "### Convergence\n",
    "\n",
    "In this section we study the convergence of the execution time of the algorithm, first as it increases in iteration count, then as it increases in size."
   ]
  },
  {
   "cell_type": "code",
   "execution_count": 143,
   "metadata": {},
   "outputs": [
    {
     "data": {
      "image/png": "[encoded data removed]",
      "text/plain": [
       "<Figure size 432x288 with 1 Axes>"
      ]
     },
     "metadata": {
      "needs_background": "light"
     },
     "output_type": "display_data"
    },
    {
     "data": {
      "image/png": "[encoded data removed]",
      "text/plain": [
       "<Figure size 432x288 with 1 Axes>"
      ]
     },
     "metadata": {
      "needs_background": "light"
     },
     "output_type": "display_data"
    }
   ],
   "source": [
    "def time_execution(iterations, size, measurements):\n",
    "    \"\"\"\n",
    "    Measure the computing time of the algorithm, averaged over the number\n",
    "    given by measurments.\n",
    "    \"\"\"\n",
    "    total_time = 0\n",
    "    for _ in range(measurements):\n",
    "        timer = -time.process_time()\n",
    "        measure_success(iterations, size)\n",
    "        timer += time.process_time()\n",
    "        total_time += timer\n",
    "    return total_time/measurements\n",
    "\n",
    "\n",
    "def measure_exec_convergence_iterations(start, stop, points, repeats, size):\n",
    "    \"\"\"\n",
    "    Measure the execution time of the algorithm for various values\n",
    "    of iterations.\n",
    "    \"\"\"\n",
    "    iters = np.linspace(start, stop, points)\n",
    "    exec_times = np.empty_like(iters)\n",
    "    for i, iteration_count in enumerate(iters):\n",
    "        exec_times[i] = time_execution(iteration_count, size, repeats)\n",
    "    return iters, exec_times\n",
    "\n",
    "\n",
    "def measure_exec_convergence_size(start, stop, points, repeats, iterations):\n",
    "    \"\"\"\n",
    "    Measure the execution time of the algorithm for various values\n",
    "    of lattice size.\n",
    "    \"\"\"\n",
    "    sizes = np.linspace(start, stop, points)\n",
    "    exec_times = np.empty_like(sizes)\n",
    "    for i, size in enumerate(sizes):\n",
    "        exec_times[i] = time_execution(iterations, size, repeats)\n",
    "    return sizes, exec_times\n",
    "\n",
    "#################### Results from Measurements #########################\n",
    "iteration_counts = np.array([1.00000000e+00,\n",
    "                             2.23111111e+02,\n",
    "                             4.45222222e+02,\n",
    "                             6.67333333e+02,\n",
    "                             8.89444444e+02,\n",
    "                             1.11155556e+03,\n",
    "                             1.33366667e+03,\n",
    "                             1.55577778e+03,\n",
    "                             1.77788889e+03,\n",
    "                             2.00000000e+03])\n",
    "\n",
    "execution_times_iters = np.array([0.0015625,\n",
    "                                  0.05     ,\n",
    "                                  0.0953125,\n",
    "                                  0.14375  ,\n",
    "                                  0.1890625,\n",
    "                                  0.234375 ,\n",
    "                                  0.2828125,\n",
    "                                  0.334375 ,\n",
    "                                  0.3765625,\n",
    "                                  0.4390625])\n",
    "\n",
    "sizes_count = np.array([ 3.        ,\n",
    "                        7.11111111 ,\n",
    "                        11.22222222,\n",
    "                        15.33333333,\n",
    "                        19.44444444,\n",
    "                        23.55555556,\n",
    "                        27.66666667,\n",
    "                        31.77777778,\n",
    "                        35.88888889,\n",
    "                        40.        ])\n",
    "\n",
    "execution_times_sizes = np.array([0.       ,\n",
    "                                  0.0078125,\n",
    "                                  0.028125 ,\n",
    "                                  0.1046875,\n",
    "                                  0.2296875,\n",
    "                                  0.4171875,\n",
    "                                  0.771875 ,\n",
    "                                  1.3046875,\n",
    "                                  2.10625  ,\n",
    "                                  3.8109375])\n",
    "#######################################################################\n",
    "\n",
    "# To Repeat Measurments Uncomment the following two lines:\n",
    "\n",
    "# iteration_counts, execution_times_iters =  measure_exec_convergence_iterations(1, 2000, 10, 10, 10)\n",
    "# sizes_count, execution_times_sizes = measure_exec_convergence_size(3, 40, 10, 10, 100)\n",
    "\n",
    "plt.plot(iteration_counts, execution_times_iters)\n",
    "plt.xlabel('Number of Iterations')\n",
    "plt.ylabel('Execution Time (S)')\n",
    "plt.title('Convergence of Iterations')\n",
    "plt.show()\n",
    "\n",
    "plt.plot(sizes_count, execution_times_sizes)\n",
    "plt.xlabel('Size of Lattice (One Side)')\n",
    "plt.ylabel('Execution Time (S)')\n",
    "plt.title('Convergence of Lattice Sizes')\n",
    "plt.show()"
   ]
  },
  {
   "cell_type": "markdown",
   "metadata": {},
   "source": [
    "#### Analysis of Convergence Results\n",
    "The plots above illustrate the convergence behviour of the algorithm. According to these measurments, the execution time appears to evolve linearly as the number of iterations increase. Meanwhile the execution time increases exponentially with the increase in lattice size. This is most likely because the number of points that need to be measured inceases quadratically for every increase in the side length."
   ]
  },
  {
   "cell_type": "markdown",
   "metadata": {},
   "source": [
    "## Question 2: Potentials Generated by Random Particles\n",
    "\n",
    "Objectives:\n",
    "* Implement an efficient method to compute and visualise f(r) for 1 < r < 10\n",
    "* Estimate the expected relative error (via random placemtns of particles\n",
    "* Describe your code implementation strategy, optimisations, and the influence of the parameters N, M and number of random trials\n",
    "\n",
    "### Performance-Optimised Code\n",
    "Implementation of the problem without parallelisation"
   ]
  },
  {
   "cell_type": "code",
   "execution_count": 139,
   "metadata": {},
   "outputs": [],
   "source": [
    "@njit\n",
    "def get_measurement_point(m, R, M, radius):\n",
    "    \"\"\"\n",
    "    \"\"\"\n",
    "    angle = m/M*2*np.pi\n",
    "    x1 = radius*np.cos(angle)\n",
    "    x2 = radius*np.sin(angle)\n",
    "    return np.array([x1, x2])\n",
    "\n",
    "@njit\n",
    "def get_rm_index(i, R):\n",
    "    \"\"\"\n",
    "    \"\"\"\n",
    "    r = i%R\n",
    "    m = i//R\n",
    "    return np.array([r, m])\n",
    "\n",
    "\n",
    "@njit(['float64(float64[:], float64[:,:])'])\n",
    "def numba_potential(x, y):\n",
    "    \"\"\"\n",
    "    \"\"\"\n",
    "    distances = np.sqrt((x[0] - y[:, 0])**2 + (x[1] - y[:, 1])**2)\n",
    "    potentials = 1/(2*np.pi)*np.log(distances)\n",
    "    potential = np.sum(potentials)\n",
    "    return potential\n",
    "\n",
    "\n",
    "@njit(['float64[:,:](int64)'])\n",
    "def numba_spawn_y(N):\n",
    "    \"\"\"\n",
    "    Creates N random 2-D points in a unit circle,\n",
    "    unifromly distributed. [See Reference 1]\n",
    "    \"\"\"\n",
    "    N = int(N)\n",
    "    relative_points = np.random.rand(N, 2)\n",
    "    relative_points[:, 1] = np.sqrt(relative_points[:, 1])\n",
    "    relative_points[:, 0] = relative_points[:, 0]*2*np.pi\n",
    "    return numba_radial_to_cartesian(relative_points)\n",
    "\n",
    "\n",
    "@njit(['float64[:](float64[:], int64, int64, int64)'], parallel=True)\n",
    "def calculate_potentials_along_radii(radii, R, M, N):\n",
    "    \"\"\"\n",
    "    \"\"\"\n",
    "    y = numba_spawn_y(N)\n",
    "    potentials = np.zeros((M, R))\n",
    "    L = R*M\n",
    "    for j in prange(L):\n",
    "        coords = get_rm_index(j, R)\n",
    "        x = get_measurement_point(coords[1], R, M, radii[coords[0]])\n",
    "        potentials[coords[1], coords[0]] = numba_potential(x, y)/N\n",
    "    potentials_per_radius = np.sum(potentials, axis=0)/M\n",
    "    return potentials_per_radius\n",
    "    \n",
    "\n",
    "\n",
    "@njit(['float64[:](float64, float64, int64, int64, int64, int64)'])\n",
    "def fast_calculate_multi_radii(low, high, R, M, N, iterations):\n",
    "    \"\"\"\n",
    "    Calculate the average potential for N points evenly\n",
    "    spaced in the range (low, high) - non inclusive \"\"\"\n",
    "    results = np.zeros((R, ))\n",
    "    radii = np.linspace(low, high, R)\n",
    "    for _ in range(iterations):\n",
    "        potentials_per_radius = calculate_potentials_along_radii(radii, R, M, N)\n",
    "        results += potentials_per_radius\n",
    "    return results/iterations\n",
    "\n",
    "\n",
    "def show_particles(y):\n",
    "    \"\"\"\n",
    "    Show a scatter plot of the points y.\n",
    "    \"\"\"\n",
    "    plt.scatter(y[:, 0], y[:, 1])\n",
    "    plt.show()\n",
    "\n",
    "\n",
    "def single_centre_potential(radius):\n",
    "    \"\"\"\n",
    "    Calculate the uniform potential of a particle at the centre\n",
    "    of a circle of the given radius on a point on the\n",
    "    circumfrence.\n",
    "    \"\"\"\n",
    "    return np.log(radius)/(2*np.pi)\n",
    "\n",
    "\n",
    "def relative_error(centre_point_values, aggregate_values):\n",
    "    \"\"\"\n",
    "    Calculate the relative error for each set of points\n",
    "    \"\"\"\n",
    "    difference = np.linalg.norm(\n",
    "        centre_point_values - aggregate_values, axis=0\n",
    "    )\n",
    "    return np.divide(difference, centre_point_values)"
   ]
  },
  {
   "cell_type": "code",
   "execution_count": 140,
   "metadata": {},
   "outputs": [
    {
     "data": {
      "image/png": "[encoded data removed]",
      "text/plain": [
       "<Figure size 432x288 with 1 Axes>"
      ]
     },
     "metadata": {
      "needs_background": "light"
     },
     "output_type": "display_data"
    },
    {
     "data": {
      "image/png": "[encoded data removed]",
      "text/plain": [
       "<Figure size 432x288 with 1 Axes>"
      ]
     },
     "metadata": {
      "needs_background": "light"
     },
     "output_type": "display_data"
    }
   ],
   "source": [
    "N = 1000\n",
    "low = 1.001\n",
    "high = 10\n",
    "R = 10\n",
    "M = 10\n",
    "iterations = 100\n",
    "\n",
    "y = spawn_y(N)\n",
    "exact = single_centre_multi_radii(low, high, R)\n",
    "exper = fast_calculate_multi_radii(low, high, R, M, N, 100)\n",
    "Ef = relative_error(exact, exper.reshape(R, 1))\n",
    "r = r_linspace(low, high, R)\n",
    "plt.semilogy(r, Ef, label='fast')\n",
    "plt.semilogy(r, E_slow, label='slow')\n",
    "plt.legend()\n",
    "plt.show()\n",
    "plt.plot(r, exact, label='singular')\n",
    "plt.plot(r, exper, label='iterated')\n",
    "plt.legend()\n",
    "plt.show()"
   ]
  },
  {
   "cell_type": "code",
   "execution_count": 69,
   "metadata": {
    "scrolled": true
   },
   "outputs": [
    {
     "name": "stdout",
     "output_type": "stream",
     "text": [
      "53.6 ms ± 420 µs per loop (mean ± std. dev. of 7 runs, 10 loops each)\n"
     ]
    }
   ],
   "source": [
    "%timeit fast_calculate_multi_radii(low, high, R, M, N, iterations)"
   ]
  },
  {
   "cell_type": "code",
   "execution_count": null,
   "metadata": {},
   "outputs": [],
   "source": [
    "%timeit fast_calculate_multi_radii(low, high, R, M, N, iterations)"
   ]
  },
  {
   "cell_type": "code",
   "execution_count": null,
   "metadata": {},
   "outputs": [],
   "source": [
    "r_i = np.arange(R)\n",
    "radius = r_i*(high-low)/R + low\n",
    "radius"
   ]
  },
  {
   "cell_type": "code",
   "execution_count": null,
   "metadata": {},
   "outputs": [],
   "source": [
    "r_linspace(low, high, R)"
   ]
  },
  {
   "cell_type": "markdown",
   "metadata": {},
   "source": [
    "# References"
   ]
  },
  {
   "cell_type": "markdown",
   "metadata": {},
   "source": [
    "[1] https://stackoverflow.com/questions/5837572/generate-a-random-point-within-a-circle-uniformly/50746409#50746409\n"
   ]
  }
 ],
 "metadata": {
  "kernelspec": {
   "display_name": "Python 3",
   "language": "python",
   "name": "python3"
  },
  "language_info": {
   "codemirror_mode": {
    "name": "ipython",
    "version": 3
   },
   "file_extension": ".py",
   "mimetype": "text/x-python",
   "name": "python",
   "nbconvert_exporter": "python",
   "pygments_lexer": "ipython3",
   "version": "3.7.3"
  }
 },
 "nbformat": 4,
 "nbformat_minor": 2
}
