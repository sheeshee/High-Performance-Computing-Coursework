{
 "cells": [
  {
   "cell_type": "markdown",
   "metadata": {},
   "source": [
    "# Assignment 1\n",
    "**Samuel Sheehy (Student ID 18143565)**\n",
    "\n",
    "**Techniques of High Performance Computing (PHAS0102)**\n",
    "\n",
    "**MSc Scientific Computing, University College London**, **2019-2020**"
   ]
  },
  {
   "cell_type": "markdown",
   "metadata": {},
   "source": [
    "## Setup Notebook\n",
    "Import libraries that will be used for the completion of both questions and define utility functions used for completing both Questions."
   ]
  },
  {
   "cell_type": "code",
   "execution_count": 5,
   "metadata": {},
   "outputs": [],
   "source": [
    "import numpy as np\n",
    "from numpy.random import randint\n",
    "import matplotlib.pyplot as plt\n",
    "from numba import njit, prange\n",
    "import numexpr as ne\n",
    "# Test Flag: Decides if the tests used to ensure the\n",
    "# code is running properly are run. Set to False for Submission.\n",
    "TESTING_ACTIVE = True\n",
    "\n",
    "def test(func):\n",
    "    \"\"\"\n",
    "    Decorator that will run the given test function only\n",
    "    if the global boolean flag TESTING_ACTIVE is set to\n",
    "    True.\n",
    "    \n",
    "    Example: \n",
    "    ```\n",
    "    def add(a, b):\n",
    "        return a + b\n",
    "\n",
    "    @test\n",
    "    def test_add():\n",
    "        assert(\n",
    "            add(1, 2) == 3\n",
    "        )\n",
    "    ```\n",
    "    \"\"\"\n",
    "    if TESTING_ACTIVE:\n",
    "        func()"
   ]
  },
  {
   "cell_type": "markdown",
   "metadata": {},
   "source": [
    "## Question 1: Random Walk on a Lattice\n",
    "Objectives:\n",
    "* Compute the probability that the particle reaches the bottom edge of the latice for each point on the lattice\n",
    "* Study the convergence of the code as you increase the number of walk trials per lattice point, and as you increase the number N of lattice points\n",
    "* Optimise runtime of code and justify decisions\n",
    "\n",
    "Standards:\n",
    "* 0 is North, 1 is East, 2 is South, 3 is West\n",
    "* Moving North decreases position, moving East increases position\n",
    "* Lattitudal movement is index 0, Latteral movement is index 1"
   ]
  },
  {
   "cell_type": "markdown",
   "metadata": {},
   "source": [
    "### Non-Optimised Problem Implementation\n",
    "In a first instance, the code to calculate the probabilites is implemented with no attention to performance. This will be used to check the correctness of the optimised verion of the code and as a benchmark for performance improvements."
   ]
  },
  {
   "cell_type": "code",
   "execution_count": 6,
   "metadata": {},
   "outputs": [],
   "source": [
    "NORTH = 0\n",
    "EAST = 1\n",
    "SOUTH = 2\n",
    "WEST = 3\n",
    "\n",
    "\n",
    "def step(particle, direction):\n",
    "    \"\"\"\n",
    "    Return the new position of the particle.\n",
    "    \"\"\"\n",
    "    # Unpack the position of the particle\n",
    "    lon = particle[0]\n",
    "    lat = particle[1]\n",
    "    if direction == NORTH:\n",
    "        return [lon-1, lat]\n",
    "    if direction == EAST:\n",
    "        return [lon, lat+1]\n",
    "    if direction == SOUTH:\n",
    "        return [lon+1, lat]\n",
    "    if direction == WEST:\n",
    "        return [lon, lat-1]\n",
    "    raise Exception('Unknown direction given' + str(direction))\n",
    "\n",
    "\n",
    "def random_step(particle):\n",
    "    \"\"\"\n",
    "    Execute the ```walk``` function with in a random\n",
    "    direction\n",
    "    \"\"\"\n",
    "    # Get a random direction (i.e number 0 to 3 inc.)\n",
    "    direction = randint(4)\n",
    "    return step(particle, direction)\n",
    "\n",
    "\n",
    "def create_lattice(height, width):\n",
    "    \"\"\"\n",
    "    Return a vector indicating the maximum height index\n",
    "    (position 0) and maximum width index allowed\n",
    "    (position 1)\n",
    "    \"\"\"\n",
    "    if width < 1 or height < 1:\n",
    "        raise Exception('Lattice is zero-sized')\n",
    "    return [height-1, width-1]\n",
    "\n",
    "\n",
    "def on_border(particle, lattice):\n",
    "    \"\"\"\n",
    "    Returns a integer indicating if the particle is still\n",
    "    in the middle of the lattice (0), on a non-bottom\n",
    "    edge (1), or on the bottom edge (2)\n",
    "    \"\"\"\n",
    "    # Is particle on the North edge\n",
    "    on_north = particle[0] <= 0\n",
    "    # Is particle on the West edge\n",
    "    on_west = particle[1] <= 0\n",
    "    # Is paricle on the East edge\n",
    "    on_east = particle[1] >= lattice[1]\n",
    "    # Is particle on the South edge\n",
    "    on_south = particle[0] >= lattice[0]\n",
    "    if on_south:\n",
    "        return 2\n",
    "    elif on_north or on_west or on_east:\n",
    "        return 1\n",
    "    else:\n",
    "        return 0\n",
    "\n",
    "\n",
    "def create_particle(lon, lat):\n",
    "    \"\"\"\n",
    "    Place the particle on a random location on the lattice.\n",
    "    \"\"\"\n",
    "    return [lon, lat]\n",
    "\n",
    "\n",
    "def random_walk(particle, lattice):\n",
    "    \"\"\"\n",
    "    Run a random walk simulation. Return True if the\n",
    "    particle finishes on the bottom edge, False if it\n",
    "    finishes on any other edge.\n",
    "    \"\"\"\n",
    "    while not on_border(particle, lattice):\n",
    "        particle = random_step(particle)\n",
    "    return on_border(particle, lattice)-1 # convert 1-2 scale to 0-1\n",
    "\n",
    "\n",
    "@test\n",
    "def integration():\n",
    "    \"\"\"\n",
    "    Check all the functions run with each other and that the final\n",
    "    result is the correct format.\n",
    "    \"\"\"\n",
    "    lattice = create_lattice(5, 5)\n",
    "    particle = create_particle(2, 2)\n",
    "    result = random_walk(particle, lattice)\n",
    "    assert(result == 0 or result == 1)\n",
    "    \n",
    "    lattice = create_lattice(5, 5)\n",
    "    particle = create_particle(4, 4)\n",
    "    result = random_walk(particle, lattice)\n",
    "    assert(result == 1)\n",
    "\n",
    "    \n",
    "def measure_success(particle, lattice, iterations):\n",
    "    \"\"\"\n",
    "    Measure the success rate of particle reaching the bottom\n",
    "    point for a set number of iterations\n",
    "    \"\"\"\n",
    "    successes = 0\n",
    "    for _ in range(int(iterations)):\n",
    "        successes += random_walk(particle, lattice)\n",
    "    return successes/iterations\n",
    "\n",
    "\n",
    "def list_lattice_points(lattice):\n",
    "    \"\"\"\n",
    "    Produce a list of all the lattice points possible.\n",
    "    \"\"\"\n",
    "    lat_points = [i for i in range(lattice[1]+1)]\n",
    "    lon_points = [i for i in range(lattice[0]+1)]\n",
    "    return list(product(lon_points, lat_points))\n",
    "\n",
    "\n",
    "def calculate_probability_grid(height, width, iterations):\n",
    "    \"\"\"\n",
    "    Run the experiment, measuring success rates for a particle\n",
    "    starting on each point of a lattice of the given size.\n",
    "    \"\"\"\n",
    "    lattice = create_lattice(height, width)\n",
    "    results = np.empty((height, width))\n",
    "    for lon, lat in list_lattice_points(lattice):\n",
    "        particle = create_particle(lon, lat)\n",
    "        success = measure_success(particle, lattice, iterations)\n",
    "        results[lon, lat] = measure_success(particle, lattice, iterations)\n",
    "    return results\n",
    "\n",
    "\n",
    "def show_success_map(results_matrix):\n",
    "    \"\"\"\n",
    "    Creates a heatmap of the results.\n",
    "    \"\"\"\n",
    "    plt.imshow(results_matrix, cmap='hot', interpolation='nearest')\n",
    "    plt.show()"
   ]
  },
  {
   "cell_type": "code",
   "execution_count": 8,
   "metadata": {},
   "outputs": [],
   "source": [
    "# @test\n",
    "# def run_linear():\n",
    "#     success_map = calculate_probability_grid(10, 10, 100)\n",
    "#     show_success_map(success_map)"
   ]
  },
  {
   "cell_type": "code",
   "execution_count": 9,
   "metadata": {},
   "outputs": [],
   "source": [
    "# %timeit calculate_probability_grid(10, 10, 100)"
   ]
  },
  {
   "cell_type": "markdown",
   "metadata": {},
   "source": [
    "### Performance-Optimised Implementation\n",
    "In this next section, we reimplement the problem while optimising the alogrithm's executing time. This will be done by using a combination of Numba's JIT compilation methods, Multiprocessing's multicore calculation capabilities and Numexpr's vector addtion functions.\n",
    "\n",
    "While Numexpr has multicore abilities when Intel's MLK is installed, this is not guaranteed to be the case on every machine. For this reason, this implmentation relies on Multiprocessing instead to divide the work among the available CPU cores."
   ]
  },
  {
   "cell_type": "code",
   "execution_count": 10,
   "metadata": {},
   "outputs": [],
   "source": [
    "@njit(['float64[:,:](int64, int64)'])\n",
    "def initialise_starting_points(width, height):\n",
    "    \"\"\"\n",
    "    \"\"\"\n",
    "    number_of_points = height*width\n",
    "    indexes = np.arange(number_of_points)\n",
    "    starting_points = np.empty((number_of_points, 2))\n",
    "    starting_points[:, 0] = indexes%width\n",
    "    starting_points[:, 1] = indexes//width\n",
    "    return starting_points\n",
    "\n",
    "\n",
    "@njit(['float64[:,:](int64)'])\n",
    "def generate_random_steps(number_of_points):\n",
    "    \"\"\"\n",
    "    \"\"\"\n",
    "    steps = np.zeros((number_of_points, 2))\n",
    "    output = np.empty_like(steps)\n",
    "    directions = np.random.randint(0, 4, (number_of_points))\n",
    "    steps[:, 0] = np.cos(directions/4*2*np.pi)\n",
    "    steps[:, 1] = np.sin(directions/4*2*np.pi)\n",
    "    np.round(steps, 1, output)\n",
    "    return output\n",
    "    \n",
    "\n",
    "@njit(['float64[:,:](float64[:,:], float64[:,:])'])\n",
    "def step(particles, steps):\n",
    "    \"\"\"\n",
    "    \"\"\"\n",
    "    return particles+steps\n",
    "    \n",
    "    \n",
    "\n",
    "@njit(['float64[:,:](float64[:,:])'])\n",
    "def step_randomly(particles):\n",
    "    \"\"\"\n",
    "    \"\"\"\n",
    "    number_of_points = len(particles)\n",
    "    steps = generate_random_steps(number_of_points)\n",
    "    return step(particles, steps)\n",
    "\n",
    "\n",
    "@njit(['float64[:](float64[:,:], int64, int64)'])\n",
    "def get_states(particles, width, height):\n",
    "    \"\"\"\n",
    "    \"\"\"\n",
    "    states = np.zeros((width*height, 1))\n",
    "    actual_width = particles[:, 0]\n",
    "    actual_height = particles[:, 1]\n",
    "    on_south = actual_height >= (height-1)\n",
    "    on_north = actual_height <= 0\n",
    "    on_east = actual_width >= (width-1) \n",
    "    on_west = actual_width <= 0 \n",
    "    states[on_north | on_east | on_west] = 1\n",
    "    states[on_south] = 2\n",
    "    return states.flatten()\n",
    "\n",
    "\n",
    "@njit(['float64[:,:](float64[:,:], int64, int64)'])\n",
    "def random_walk(particles, width, height):\n",
    "    \"\"\"\n",
    "    \"\"\"\n",
    "    states = get_states(particles, width, height)\n",
    "    while particles[states == 0].size > 0:\n",
    "        particles[states == 0] = step_randomly(particles[states == 0])\n",
    "        states = get_states(particles, width, height)\n",
    "    return particles\n",
    "\n",
    "@njit(['float64[:](float64[:,:], int64, int64)'])\n",
    "def get_success(particles, width, height):\n",
    "    \"\"\"\n",
    "    \"\"\"\n",
    "    states = get_states(particles, width, height)\n",
    "    successes = states >= 2\n",
    "    return successes*1.0\n",
    "\n",
    "\n",
    "@njit(['float64[:,:](int64, int64)'], parallel=True)\n",
    "def measure_success(iterations, size):\n",
    "    \"\"\"\n",
    "    \"\"\"\n",
    "    width = size\n",
    "    height = size\n",
    "    results = np.zeros((width*height,), dtype=np.double)\n",
    "    for _ in prange(iterations):\n",
    "        particles = initialise_starting_points(width, height)\n",
    "        particles = random_walk(particles, width, height)\n",
    "        results += get_success(particles, width, height)\n",
    "    results = results.reshape(width, height)/iterations\n",
    "    return results"
   ]
  },
  {
   "cell_type": "code",
   "execution_count": 11,
   "metadata": {},
   "outputs": [
    {
     "data": {
      "image/png": "[encoded data removed]",
      "text/plain": [
       "<Figure size 432x288 with 1 Axes>"
      ]
     },
     "metadata": {
      "needs_background": "light"
     },
     "output_type": "display_data"
    }
   ],
   "source": [
    "results = measure_success(2000, 50)\n",
    "show_success_map(results)"
   ]
  },
  {
   "cell_type": "code",
   "execution_count": 12,
   "metadata": {},
   "outputs": [
    {
     "name": "stdout",
     "output_type": "stream",
     "text": [
      "41.5 ms ± 3.55 ms per loop (mean ± std. dev. of 7 runs, 10 loops each)\n"
     ]
    }
   ],
   "source": [
    "%timeit results = measure_success(100, 10)"
   ]
  },
  {
   "cell_type": "markdown",
   "metadata": {},
   "source": [
    "## Question 2: Potentials Generated by Random Particles\n",
    "Objectives:\n",
    "* Implement an efficient method to compute and visualise f(r) for 1 < r < 10\n",
    "* Estimate the expected relative error (via random placemtns of particles\n",
    "* Describe your code implementation strategy, optimisations, and the influence of the parameters N, M and number of random trials"
   ]
  },
  {
   "cell_type": "markdown",
   "metadata": {},
   "source": [
    "### Linear Code\n",
    "Implementation of the problem without parallelisation"
   ]
  },
  {
   "cell_type": "code",
   "execution_count": 13,
   "metadata": {},
   "outputs": [],
   "source": [
    "def potential(x, y):\n",
    "    \"\"\"\n",
    "    Calculate the potential of point y at point x.\n",
    "    \"\"\"\n",
    "    pi = np.pi\n",
    "    distance = np.linalg.norm(x - y, axis=1)\n",
    "    potential = ne.evaluate('sum(1/(2*pi)*log(distance))')\n",
    "    return potential\n",
    "\n",
    "\n",
    "def get_measurment_points(radius, M):\n",
    "    \"\"\"\n",
    "    Create M equally spaced points on a circle of the given\n",
    "    radius\n",
    "    \"\"\"\n",
    "    points = np.empty((M, 2))\n",
    "    points[:, 0] = np.array([i/M*2*np.pi for i in range(M)])\n",
    "    points[:, 1] = radius\n",
    "    return radial_to_cartesian(points)\n",
    "    \n",
    "\n",
    "def num_combined_potential(radius, M, y):\n",
    "    \"\"\"\n",
    "    Calculate the averaged potential of all points y\n",
    "    within a circle of given radius on M circumfrence\n",
    "    points, equally spaced.\n",
    "    \"\"\"\n",
    "    x = get_measurment_points(radius, M)\n",
    "    average_potential = sum([\n",
    "        potential(x[i, :], y) for i in range(M)\n",
    "    ])/(len(y)*M)\n",
    "    return average_potential\n",
    "\n",
    "\n",
    "def radial_to_cartesian(radial):\n",
    "    \"\"\"\n",
    "    Transform a set of points in radial coordinates\n",
    "    into the equivalent points in cartesian coordinates\n",
    "    \"\"\"\n",
    "    cartesian = np.empty_like(radial)\n",
    "    cartesian[:, 0] = radial[:, 1]*np.cos(radial[:, 0])\n",
    "    cartesian[:, 1] = radial[:, 1]*np.sin(radial[:, 0])\n",
    "    return cartesian\n",
    "\n",
    "\n",
    "def spawn_y(N):\n",
    "    \"\"\"\n",
    "    Creates N random 2-D points in a unit circle,\n",
    "    unifromly distributed. [See Reference 1]\n",
    "    \"\"\"\n",
    "    N = int(N)\n",
    "    relative_points = np.random.rand(N, 2)\n",
    "    relative_points[:, 0] = 2*np.pi*relative_points[:, 0]\n",
    "    relative_points[:, 1] = np.sqrt(relative_points[:, 1])\n",
    "    return radial_to_cartesian(relative_points)\n",
    "\n",
    "\n",
    "def show_particles(y, x=None):\n",
    "    \"\"\"\n",
    "    Show a scatter plot of the points y.\n",
    "    \"\"\"\n",
    "    plt.scatter(y[:, 0], y[:, 1])\n",
    "    if type(x) != None:\n",
    "        plt.scatter(x[:, 0], x[:, 1])\n",
    "    plt.show()\n",
    "\n",
    "\n",
    "def single_centre_potential(radius):\n",
    "    \"\"\"\n",
    "    Calculate the uniform potential of a particle at the centre\n",
    "    of a circle of the given radius on a point on the\n",
    "    circumfrence.\n",
    "    \"\"\"\n",
    "    return np.log(radius)/(2*np.pi)\n",
    "\n",
    "\n",
    "def r_linspace(low, high, R):\n",
    "    \"\"\"\n",
    "    Create R linearly spaced points between low and high.\n",
    "    \"\"\"\n",
    "    return np.linspace(low, high, R)\n",
    "\n",
    "\n",
    "def calculate_multi_radii(low, high, R, M, y):\n",
    "    \"\"\"\n",
    "    Calculate the average potential for N points evenly\n",
    "    spaced in the range (low, high) - non inclusive \"\"\"\n",
    "    radii = r_linspace(low, high, R)\n",
    "    return np.array([\n",
    "        num_combined_potential(radius, M, y) \n",
    "        for radius in radii\n",
    "    ]).reshape(R, 1)\n",
    "\n",
    "\n",
    "def single_centre_multi_radii(low, high, R):\n",
    "    \"\"\"\n",
    "    Calculates the single centre potential for multiple\n",
    "    radii.\n",
    "    \"\"\"\n",
    "    radii = r_linspace(low, high, R)\n",
    "    return np.array([\n",
    "        single_centre_potential(radius)\n",
    "        for radius in radii\n",
    "    ]).reshape(R, 1)\n",
    "    \n",
    "\n",
    "def relative_error(centre_point_values, aggregate_values):\n",
    "    \"\"\"\n",
    "    Calculate the relative error for each set of points\n",
    "    \"\"\"\n",
    "    difference = np.linalg.norm(\n",
    "        centre_point_values - aggregate_values, axis=0\n",
    "    )\n",
    "    return np.divide(difference, centre_point_values)\n",
    "\n",
    "\n",
    "def plot_potential(low, high, R, M, y, show=True):\n",
    "    \"\"\"\n",
    "    Plot the potential\n",
    "    \"\"\"\n",
    "    r = r_linspace(low, high, R)\n",
    "    potentials = calculate_multi_radii(low, high, R, M, y)\n",
    "    plt.plot(r, potentials)\n",
    "    if show:\n",
    "        plt.show()\n",
    "\n"
   ]
  },
  {
   "cell_type": "code",
   "execution_count": 198,
   "metadata": {},
   "outputs": [
    {
     "data": {
      "image/png": "[encoded data removed]",
      "text/plain": [
       "<Figure size 432x288 with 1 Axes>"
      ]
     },
     "metadata": {
      "needs_background": "light"
     },
     "output_type": "display_data"
    }
   ],
   "source": [
    "y = spawn_y(1e2)\n",
    "low = 1.001\n",
    "high = 10\n",
    "R = 10\n",
    "M = 10\n",
    "\n",
    "r = r_linspace(low, high, R)\n",
    "exact = single_centre_multi_radii(low, high, R)\n",
    "exper_s = calculate_multi_radii(low, high, R, M, y)\n",
    "Es = relative_error(exact, exper_s)\n",
    "plt.semilogy(r, Es)\n",
    "plt.show()"
   ]
  },
  {
   "cell_type": "markdown",
   "metadata": {},
   "source": [
    "### Performance-Optimised Code\n",
    "Implementation of the problem without parallelisation"
   ]
  },
  {
   "cell_type": "code",
   "execution_count": 199,
   "metadata": {},
   "outputs": [],
   "source": [
    "@njit(['float64[:,:](int64, int64, int64, int64)'])\n",
    "def create_reference_grid(low, high, R, M):\n",
    "    \"\"\"\n",
    "    \"\"\"\n",
    "    number_of_points = R*M\n",
    "    indexes = np.arange(number_of_points)\n",
    "    reference = np.empty((number_of_points, 2))\n",
    "    if R > M:\n",
    "        mod = R\n",
    "    else:\n",
    "        mod = M\n",
    "    reference[:, 0] = indexes//mod\n",
    "    reference[:, 1] = indexes%mod\n",
    "    return reference\n",
    "\n",
    "\n",
    "@njit\n",
    "def numba_get_measurement_points(low, high, R, M):\n",
    "    \"\"\"\n",
    "    radius then angle\n",
    "    \"\"\"\n",
    "    reference = create_reference_grid(low, high, R, M)\n",
    "    measurement_points = np.empty_like(reference)\n",
    "    measurement_points[:, 0] = reference[:, 0]/M*2*np.pi\n",
    "    measurement_points[:, 1] = reference[:, 1]*(high-low)/R + low\n",
    "    return numba_radial_to_cartesian(measurement_points)\n",
    "    \n",
    "\n",
    "@njit\n",
    "def numba_radial_to_cartesian(radial):\n",
    "    \"\"\"\n",
    "    Transform a set of points in radial coordinates\n",
    "    into the equivalent points in cartesian coordinates\n",
    "    \"\"\"\n",
    "    cartesian = np.empty_like(radial)\n",
    "    cartesian[:, 0] = radial[:, 1]*np.cos(radial[:, 0])\n",
    "    cartesian[:, 1] = radial[:, 1]*np.sin(radial[:, 0])\n",
    "    return cartesian\n",
    "\n",
    "\n",
    "@njit\n",
    "def numba_potential(x, y, N, M):\n",
    "    \"\"\"\n",
    "    \"\"\"\n",
    "    distances = np.sqrt((x[0] - y[:, 0])**2 + (x[1] - y[:, 1])**2)\n",
    "    potentials = 1/(2*np.pi)*np.log(distances)\n",
    "    return np.sum(potentials)/(N*M)\n",
    "\n",
    "\n",
    "@njit(['float64[:,:](int64)'])\n",
    "def numba_spawn_y(N):\n",
    "    \"\"\"\n",
    "    Creates N random 2-D points in a unit circle,\n",
    "    unifromly distributed. [See Reference 1]\n",
    "    \"\"\"\n",
    "    N = int(N)\n",
    "    relative_points = np.random.rand(N, 2)\n",
    "    relative_points[:, 1] = np.sqrt(relative_points[:, 1])\n",
    "    relative_points[:, 0] = relative_points[:, 0]*2*np.pi\n",
    "    return numba_radial_to_cartesian(relative_points)\n",
    "\n",
    "\n",
    "@njit\n",
    "def averaged_error_curve(low, high, R, M, N, iterations):\n",
    "    \"\"\"\n",
    "    Calculate an averaged error curve.\n",
    "    \"\"\"\n",
    "    number_of_points = R*M\n",
    "    measurement_points = numba_get_measurement_points(low, high, R, M)\n",
    "    potential = np.zeros((number_of_points, iterations))\n",
    "    for j in prange(iterations): # for many y\n",
    "        y = numba_spawn_y(N)\n",
    "        for i in prange(number_of_points):\n",
    "            potential[i, j] = numba_potential(measurement_points[i, :], y, N, M)\n",
    "    avg_potential_for_points = np.sum(potential, axis=1)/iterations\n",
    "#     return avg_potential_for_points\n",
    "#     print(avg_potential_for_points)\n",
    "    avg_potential = np.sum(avg_potential_for_points.reshape(M, R), axis=0)\n",
    "    return avg_potential.reshape(R, 1)"
   ]
  },
  {
   "cell_type": "code",
   "execution_count": 200,
   "metadata": {},
   "outputs": [
    {
     "data": {
      "image/png": "[encoded data removed]",
      "text/plain": [
       "<Figure size 432x288 with 1 Axes>"
      ]
     },
     "metadata": {
      "needs_background": "light"
     },
     "output_type": "display_data"
    },
    {
     "data": {
      "image/png": "[encoded data removed]",
      "text/plain": [
       "<Figure size 432x288 with 1 Axes>"
      ]
     },
     "metadata": {
      "needs_background": "light"
     },
     "output_type": "display_data"
    },
    {
     "data": {
      "text/plain": [
       "array([[-4.26154260e-05],\n",
       "       [ 1.02229468e-01],\n",
       "       [ 1.63914484e-01],\n",
       "       [ 2.08257743e-01],\n",
       "       [ 2.42900162e-01],\n",
       "       [ 2.71333554e-01],\n",
       "       [ 2.95448948e-01],\n",
       "       [ 3.16386569e-01],\n",
       "       [ 3.34887233e-01],\n",
       "       [ 3.51459538e-01]])"
      ]
     },
     "execution_count": 200,
     "metadata": {},
     "output_type": "execute_result"
    }
   ],
   "source": [
    "N = int(1e2)\n",
    "low = 1.001\n",
    "high = 10\n",
    "R = 10\n",
    "M = 10\n",
    "iterations = 4\n",
    "exact = single_centre_multi_radii(low, high, R)\n",
    "exper = averaged_error_curve(low, high, R, M, N, iterations)\n",
    "Ef = relative_error(exact, exper*1.08)\n",
    "r = r_linspace(low, high, R)\n",
    "plt.semilogy(r, Ef)\n",
    "plt.show()\n",
    "plt.plot(r, exper)\n",
    "plt.plot(r, exact)\n",
    "plt.show()\n",
    "exper"
   ]
  },
  {
   "cell_type": "code",
   "execution_count": 197,
   "metadata": {
    "scrolled": true
   },
   "outputs": [
    {
     "data": {
      "text/plain": [
       "array([[14.98505879],\n",
       "       [ 1.07990304],\n",
       "       [ 1.0670037 ],\n",
       "       [ 1.05958588],\n",
       "       [ 1.05463689],\n",
       "       [ 1.05103935],\n",
       "       [ 1.0482737 ],\n",
       "       [ 1.0460621 ],\n",
       "       [ 1.04424105],\n",
       "       [ 1.04270734]])"
      ]
     },
     "execution_count": 197,
     "metadata": {},
     "output_type": "execute_result"
    }
   ],
   "source": [
    "exper_s/exper"
   ]
  },
  {
   "cell_type": "code",
   "execution_count": 146,
   "metadata": {},
   "outputs": [
    {
     "data": {
      "text/plain": [
       "array([[0., 0.],\n",
       "       [0., 1.],\n",
       "       [0., 2.],\n",
       "       [0., 3.],\n",
       "       [0., 4.],\n",
       "       [0., 5.],\n",
       "       [0., 6.],\n",
       "       [0., 7.],\n",
       "       [0., 8.],\n",
       "       [0., 9.],\n",
       "       [1., 0.],\n",
       "       [1., 1.],\n",
       "       [1., 2.],\n",
       "       [1., 3.],\n",
       "       [1., 4.],\n",
       "       [1., 5.],\n",
       "       [1., 6.],\n",
       "       [1., 7.],\n",
       "       [1., 8.],\n",
       "       [1., 9.],\n",
       "       [2., 0.],\n",
       "       [2., 1.],\n",
       "       [2., 2.],\n",
       "       [2., 3.],\n",
       "       [2., 4.],\n",
       "       [2., 5.],\n",
       "       [2., 6.],\n",
       "       [2., 7.],\n",
       "       [2., 8.],\n",
       "       [2., 9.]])"
      ]
     },
     "execution_count": 146,
     "metadata": {},
     "output_type": "execute_result"
    }
   ],
   "source": [
    "create_reference_grid(low, high, R, M)"
   ]
  },
  {
   "cell_type": "code",
   "execution_count": 112,
   "metadata": {},
   "outputs": [
    {
     "data": {
      "text/plain": [
       "<matplotlib.collections.PathCollection at 0x7f9b5a07dd10>"
      ]
     },
     "execution_count": 112,
     "metadata": {},
     "output_type": "execute_result"
    },
    {
     "data": {
      "image/png": "[encoded data removed]",
      "text/plain": [
       "<Figure size 432x288 with 1 Axes>"
      ]
     },
     "metadata": {
      "needs_background": "light"
     },
     "output_type": "display_data"
    }
   ],
   "source": [
    "m = numba_get_measurement_points(low, high, R, M)\n",
    "plt.scatter(m[:, 0], m[:, 1])"
   ]
  },
  {
   "cell_type": "markdown",
   "metadata": {},
   "source": [
    "# References"
   ]
  },
  {
   "cell_type": "markdown",
   "metadata": {},
   "source": [
    "[1] https://stackoverflow.com/questions/5837572/generate-a-random-point-within-a-circle-uniformly/50746409#50746409\n"
   ]
  }
 ],
 "metadata": {
  "kernelspec": {
   "display_name": "Python 3",
   "language": "python",
   "name": "python3"
  },
  "language_info": {
   "codemirror_mode": {
    "name": "ipython",
    "version": 3
   },
   "file_extension": ".py",
   "mimetype": "text/x-python",
   "name": "python",
   "nbconvert_exporter": "python",
   "pygments_lexer": "ipython3",
   "version": "3.7.4"
  }
 },
 "nbformat": 4,
 "nbformat_minor": 2
}
